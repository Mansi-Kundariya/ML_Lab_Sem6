{
  "nbformat": 4,
  "nbformat_minor": 0,
  "metadata": {
    "colab": {
      "provenance": [],
      "authorship_tag": "ABX9TyNjYQvZeUG6H0RzSt971RXm",
      "include_colab_link": true
    },
    "kernelspec": {
      "name": "python3",
      "display_name": "Python 3"
    },
    "language_info": {
      "name": "python"
    }
  },
  "cells": [
    {
      "cell_type": "markdown",
      "metadata": {
        "id": "view-in-github",
        "colab_type": "text"
      },
      "source": [
        "<a href=\"https://colab.research.google.com/github/Mansi-Kundariya/ML_Lab_Sem6/blob/main/CE059_ML_Lab11.ipynb\" target=\"_parent\"><img src=\"https://colab.research.google.com/assets/colab-badge.svg\" alt=\"Open In Colab\"/></a>"
      ]
    },
    {
      "cell_type": "markdown",
      "source": [
        "# **Part A: Basic SVM with Linear Kernel**"
      ],
      "metadata": {
        "id": "g4ONROHKnKcV"
      }
    },
    {
      "cell_type": "code",
      "execution_count": null,
      "metadata": {
        "id": "t9bmCCn9_K1-"
      },
      "outputs": [],
      "source": [
        "import sys,os\n",
        "import matplotlib.pyplot as plt\n",
        "from sklearn.model_selection import train_test_split\n",
        "import numpy as np\n",
        "import pandas as pd\n",
        "from pandas import DataFrame"
      ]
    },
    {
      "cell_type": "code",
      "source": [
        "# importing scikit learn with make_blobs\n",
        "from sklearn.datasets import make_blobs"
      ],
      "metadata": {
        "id": "IrlbdrgR_3n3"
      },
      "execution_count": null,
      "outputs": []
    },
    {
      "cell_type": "code",
      "source": [
        "# creating datasets X containing n_samples\n",
        "# Y containing two classes\n",
        "X,Y = make_blobs(n_samples=100,centers=3,n_features=2);"
      ],
      "metadata": {
        "id": "TAlBJiIR_8T9"
      },
      "execution_count": null,
      "outputs": []
    },
    {
      "cell_type": "code",
      "source": [
        "# scatter plot, dots colored by class value\n",
        "df = DataFrame(dict(x=X[:,0],y=X[:,1],label=Y))\n",
        "colors = {0:'red',1:'green',2:'purple'}\n",
        "fig,ax = plt.subplots()\n",
        "grouped = df.groupby('label')\n",
        "for key,group in grouped:\n",
        "  group.plot(ax=ax, kind='scatter',x='x',y='y',label=key,color=colors[key])\n",
        "plt.show()"
      ],
      "metadata": {
        "colab": {
          "base_uri": "https://localhost:8080/",
          "height": 281
        },
        "id": "WZrwPx5CAwVI",
        "outputId": "23ae11e4-71e7-4a6d-cbb7-a93c00d6bada"
      },
      "execution_count": null,
      "outputs": [
        {
          "output_type": "display_data",
          "data": {
            "text/plain": [
              "<Figure size 432x288 with 1 Axes>"
            ],
            "image/png": "[encoded data removed]"
          },
          "metadata": {
            "needs_background": "light"
          }
        }
      ]
    },
    {
      "cell_type": "code",
      "source": [
        "# Split data to train and test on 80-20 ratio\n",
        "x_train, x_test, y_train,y_test = train_test_split(X,Y,test_size=0.2)\n",
        "x_train"
      ],
      "metadata": {
        "colab": {
          "base_uri": "https://localhost:8080/"
        },
        "id": "hFKC2UUMBrFx",
        "outputId": "e3cc7d45-e542-4ad2-ae49-5b6d08f10075"
      },
      "execution_count": null,
      "outputs": [
        {
          "output_type": "execute_result",
          "data": {
            "text/plain": [
              "array([[ 5.6043735 ,  7.61378535],\n",
              "       [ 5.51977576,  7.43302841],\n",
              "       [-3.87982153, 10.76099787],\n",
              "       [ 1.88006869,  7.09062908],\n",
              "       [ 4.79418225,  7.50611141],\n",
              "       [ 0.56937951,  6.0689971 ],\n",
              "       [-4.13593897,  6.73470734],\n",
              "       [ 3.97824351,  6.32430975],\n",
              "       [-1.97524763,  8.83533928],\n",
              "       [ 2.55732464,  7.12954937],\n",
              "       [ 3.79435164,  8.99698742],\n",
              "       [ 3.15986586,  5.7607527 ],\n",
              "       [ 2.50944919,  5.23131931],\n",
              "       [ 0.69229518,  7.98122638],\n",
              "       [-3.22614667,  8.77549198],\n",
              "       [ 3.38698483,  6.55070146],\n",
              "       [-3.20412595,  9.21741719],\n",
              "       [-4.82374491,  7.93803845],\n",
              "       [ 3.2835692 ,  6.24735159],\n",
              "       [ 3.12422178,  5.81940497],\n",
              "       [ 3.74545799,  6.92057224],\n",
              "       [-2.3793167 ,  7.75795287],\n",
              "       [-2.56679849,  9.35449515],\n",
              "       [ 1.44787437,  6.1774173 ],\n",
              "       [-3.39583417,  8.40053566],\n",
              "       [ 4.70429418,  5.42979106],\n",
              "       [ 3.85147487,  6.69867701],\n",
              "       [-2.39562319, 10.27303671],\n",
              "       [ 1.21973651,  5.87719442],\n",
              "       [ 6.46550486,  7.21601748],\n",
              "       [ 4.10297423,  6.42655752],\n",
              "       [ 4.83362762,  5.29706082],\n",
              "       [ 5.84703506,  5.73963873],\n",
              "       [ 2.70095247,  6.20277301],\n",
              "       [ 4.84606158,  6.48114363],\n",
              "       [-3.48977856,  9.57502842],\n",
              "       [-3.35142227,  8.88872034],\n",
              "       [ 2.5297278 ,  7.62985978],\n",
              "       [ 4.73593219,  7.04333411],\n",
              "       [ 3.68523469,  5.59655572],\n",
              "       [ 2.19900063,  7.32821934],\n",
              "       [ 2.70080016,  7.24258712],\n",
              "       [-2.93146782,  8.77420735],\n",
              "       [-4.00845916,  9.10045348],\n",
              "       [-3.85037312,  8.4558487 ],\n",
              "       [ 3.11548056,  6.10055438],\n",
              "       [ 1.08437119,  6.67378661],\n",
              "       [ 5.79390891,  6.20357971],\n",
              "       [ 5.60503384,  7.3741988 ],\n",
              "       [-2.49581342,  8.17949758],\n",
              "       [ 5.2452996 ,  6.88850547],\n",
              "       [ 1.39208988,  7.37478862],\n",
              "       [ 5.6244279 ,  4.8641132 ],\n",
              "       [ 2.76609538,  5.33866044],\n",
              "       [ 2.56299248,  7.85990088],\n",
              "       [ 1.9958112 ,  7.36542086],\n",
              "       [ 5.11427259,  8.30661519],\n",
              "       [ 2.45646382,  5.92461133],\n",
              "       [-3.81744314,  9.04248453],\n",
              "       [ 4.17780428,  6.20090298],\n",
              "       [ 4.25182839,  6.39157251],\n",
              "       [-0.98788495,  8.91512373],\n",
              "       [-2.45003062,  9.16904769],\n",
              "       [ 1.67652272,  6.15223758],\n",
              "       [ 2.53049075,  5.93461925],\n",
              "       [ 2.22209223,  6.97386685],\n",
              "       [-1.85193914,  8.43888276],\n",
              "       [ 4.06998066,  5.7128246 ],\n",
              "       [-3.77930772,  5.63975201],\n",
              "       [ 1.68157889,  6.46204975],\n",
              "       [ 3.03501583,  7.03899243],\n",
              "       [-2.27033168,  8.50982275],\n",
              "       [ 5.03707113,  7.51947945],\n",
              "       [-4.35790783,  9.87376208],\n",
              "       [ 2.87708275,  6.6883668 ],\n",
              "       [-2.12167634,  8.61654758],\n",
              "       [-3.77095568, 10.52432254],\n",
              "       [ 5.16256082,  6.04451832],\n",
              "       [-1.41612661,  9.20325221],\n",
              "       [ 4.76079887,  6.30144616]])"
            ]
          },
          "metadata": {},
          "execution_count": 8
        }
      ]
    },
    {
      "cell_type": "code",
      "source": [
        " # Create a linear SVM classifier\n",
        "from sklearn.svm import SVC"
      ],
      "metadata": {
        "id": "zE8Fx8UjCj9G"
      },
      "execution_count": null,
      "outputs": []
    },
    {
      "cell_type": "code",
      "source": [
        "clf = SVC(kernel='linear',C=0.1)"
      ],
      "metadata": {
        "id": "WmDbYgHXDADf"
      },
      "execution_count": null,
      "outputs": []
    },
    {
      "cell_type": "code",
      "source": [
        "clf.fit(x_train,y_train)"
      ],
      "metadata": {
        "colab": {
          "base_uri": "https://localhost:8080/",
          "height": 75
        },
        "id": "8OSF04s0DRY3",
        "outputId": "59a6f355-057e-459a-8c51-915a8aaa8b78"
      },
      "execution_count": null,
      "outputs": [
        {
          "output_type": "execute_result",
          "data": {
            "text/plain": [
              "SVC(C=0.1, kernel='linear')"
            ],
            "text/html": [
              "<style>#sk-container-id-1 {color: black;background-color: white;}#sk-container-id-1 pre{padding: 0;}#sk-container-id-1 div.sk-toggleable {background-color: white;}#sk-container-id-1 label.sk-toggleable__label {cursor: pointer;display: block;width: 100%;margin-bottom: 0;padding: 0.3em;box-sizing: border-box;text-align: center;}#sk-container-id-1 label.sk-toggleable__label-arrow:before {content: \"▸\";float: left;margin-right: 0.25em;color: #696969;}#sk-container-id-1 label.sk-toggleable__label-arrow:hover:before {color: black;}#sk-container-id-1 div.sk-estimator:hover label.sk-toggleable__label-arrow:before {color: black;}#sk-container-id-1 div.sk-toggleable__content {max-height: 0;max-width: 0;overflow: hidden;text-align: left;background-color: #f0f8ff;}#sk-container-id-1 div.sk-toggleable__content pre {margin: 0.2em;color: black;border-radius: 0.25em;background-color: #f0f8ff;}#sk-container-id-1 input.sk-toggleable__control:checked~div.sk-toggleable__content {max-height: 200px;max-width: 100%;overflow: auto;}#sk-container-id-1 input.sk-toggleable__control:checked~label.sk-toggleable__label-arrow:before {content: \"▾\";}#sk-container-id-1 div.sk-estimator input.sk-toggleable__control:checked~label.sk-toggleable__label {background-color: #d4ebff;}#sk-container-id-1 div.sk-label input.sk-toggleable__control:checked~label.sk-toggleable__label {background-color: #d4ebff;}#sk-container-id-1 input.sk-hidden--visually {border: 0;clip: rect(1px 1px 1px 1px);clip: rect(1px, 1px, 1px, 1px);height: 1px;margin: -1px;overflow: hidden;padding: 0;position: absolute;width: 1px;}#sk-container-id-1 div.sk-estimator {font-family: monospace;background-color: #f0f8ff;border: 1px dotted black;border-radius: 0.25em;box-sizing: border-box;margin-bottom: 0.5em;}#sk-container-id-1 div.sk-estimator:hover {background-color: #d4ebff;}#sk-container-id-1 div.sk-parallel-item::after {content: \"\";width: 100%;border-bottom: 1px solid gray;flex-grow: 1;}#sk-container-id-1 div.sk-label:hover label.sk-toggleable__label {background-color: #d4ebff;}#sk-container-id-1 div.sk-serial::before {content: \"\";position: absolute;border-left: 1px solid gray;box-sizing: border-box;top: 0;bottom: 0;left: 50%;z-index: 0;}#sk-container-id-1 div.sk-serial {display: flex;flex-direction: column;align-items: center;background-color: white;padding-right: 0.2em;padding-left: 0.2em;position: relative;}#sk-container-id-1 div.sk-item {position: relative;z-index: 1;}#sk-container-id-1 div.sk-parallel {display: flex;align-items: stretch;justify-content: center;background-color: white;position: relative;}#sk-container-id-1 div.sk-item::before, #sk-container-id-1 div.sk-parallel-item::before {content: \"\";position: absolute;border-left: 1px solid gray;box-sizing: border-box;top: 0;bottom: 0;left: 50%;z-index: -1;}#sk-container-id-1 div.sk-parallel-item {display: flex;flex-direction: column;z-index: 1;position: relative;background-color: white;}#sk-container-id-1 div.sk-parallel-item:first-child::after {align-self: flex-end;width: 50%;}#sk-container-id-1 div.sk-parallel-item:last-child::after {align-self: flex-start;width: 50%;}#sk-container-id-1 div.sk-parallel-item:only-child::after {width: 0;}#sk-container-id-1 div.sk-dashed-wrapped {border: 1px dashed gray;margin: 0 0.4em 0.5em 0.4em;box-sizing: border-box;padding-bottom: 0.4em;background-color: white;}#sk-container-id-1 div.sk-label label {font-family: monospace;font-weight: bold;display: inline-block;line-height: 1.2em;}#sk-container-id-1 div.sk-label-container {text-align: center;}#sk-container-id-1 div.sk-container {/* jupyter's `normalize.less` sets `[hidden] { display: none; }` but bootstrap.min.css set `[hidden] { display: none !important; }` so we also need the `!important` here to be able to override the default hidden behavior on the sphinx rendered scikit-learn.org. See: https://github.com/scikit-learn/scikit-learn/issues/21755 */display: inline-block !important;position: relative;}#sk-container-id-1 div.sk-text-repr-fallback {display: none;}</style><div id=\"sk-container-id-1\" class=\"sk-top-container\"><div class=\"sk-text-repr-fallback\"><pre>SVC(C=0.1, kernel=&#x27;linear&#x27;)</pre><b>In a Jupyter environment, please rerun this cell to show the HTML representation or trust the notebook. <br />On GitHub, the HTML representation is unable to render, please try loading this page with nbviewer.org.</b></div><div class=\"sk-container\" hidden><div class=\"sk-item\"><div class=\"sk-estimator sk-toggleable\"><input class=\"sk-toggleable__control sk-hidden--visually\" id=\"sk-estimator-id-1\" type=\"checkbox\" checked><label for=\"sk-estimator-id-1\" class=\"sk-toggleable__label sk-toggleable__label-arrow\">SVC</label><div class=\"sk-toggleable__content\"><pre>SVC(C=0.1, kernel=&#x27;linear&#x27;)</pre></div></div></div></div></div>"
            ]
          },
          "metadata": {},
          "execution_count": 12
        }
      ]
    },
    {
      "cell_type": "code",
      "source": [
        "# mode performance\n",
        "from sklearn.metrics import accuracy_score\n",
        "y_pred = clf.predict(x_test)\n",
        "print('Accuracy: %.3f' % accuracy_score(y_test, y_pred))"
      ],
      "metadata": {
        "colab": {
          "base_uri": "https://localhost:8080/"
        },
        "id": "qD_TS7JOGOf3",
        "outputId": "9c6b4f80-5674-4a24-ebb1-35c321c2d2e8"
      },
      "execution_count": null,
      "outputs": [
        {
          "output_type": "stream",
          "name": "stdout",
          "text": [
            "Accuracy: 0.950\n"
          ]
        }
      ]
    },
    {
      "cell_type": "code",
      "source": [
        "...\n",
        "# define bounds of the domain\n",
        "min1, max1 = x_train[:, 0].min()-1, x_train[:, 0].max()+1\n",
        "min2, max2 = x_train[:, 1].min()-1, x_train[:, 1].max()+1\n",
        "h = (max1/min1)/100"
      ],
      "metadata": {
        "id": "qWh7UDs4DaWH"
      },
      "execution_count": null,
      "outputs": []
    },
    {
      "cell_type": "code",
      "source": [
        "# define the x and y scale\n",
        "x1grid = np.arange(min1, max1, 0.2)\n",
        "x2grid = np.arange(min2, max2, 0.2)"
      ],
      "metadata": {
        "id": "p3zjgvl6HF8-"
      },
      "execution_count": null,
      "outputs": []
    },
    {
      "cell_type": "code",
      "source": [
        "# create all of the lines and rows of the grid\n",
        "xx, yy = np.meshgrid(x1grid, x2grid)\n",
        "plt.subplot(1,1,1)\n",
        "Z = clf.predict(np.c_[xx.ravel(), yy.ravel()])\n",
        "Z = Z.reshape(xx.shape)\n",
        "plt.contourf(xx, yy, Z, cmap = plt.cm.coolwarm, alpha = 0.8)\n"
      ],
      "metadata": {
        "colab": {
          "base_uri": "https://localhost:8080/",
          "height": 283
        },
        "id": "4f_umAWKHio-",
        "outputId": "40505ddb-fa58-4a6f-a48b-b873744eb7ac"
      },
      "execution_count": null,
      "outputs": [
        {
          "output_type": "execute_result",
          "data": {
            "text/plain": [
              "<matplotlib.contour.QuadContourSet at 0x7f1ff030dfd0>"
            ]
          },
          "metadata": {},
          "execution_count": 16
        },
        {
          "output_type": "display_data",
          "data": {
            "text/plain": [
              "<Figure size 432x288 with 1 Axes>"
            ],
            "image/png": "[encoded data removed]"
          },
          "metadata": {
            "needs_background": "light"
          }
        }
      ]
    },
    {
      "cell_type": "code",
      "source": [
        "# create all of the lines and rows of the grid\n",
        "xx, yy = np.meshgrid(x1grid, x2grid)\n",
        "plt.subplot(1,1,1)\n",
        "Z = clf.predict(np.c_[xx.ravel(), yy.ravel()])\n",
        "Z = Z.reshape(xx.shape)\n",
        "plt.contourf(xx, yy, Z, cmap = plt.cm.coolwarm, alpha = 0.8)\n",
        "plt.scatter(x_train[:,0],x_train[:,1],c=y_train,cmap=plt.cm.coolwarm,s=20,edgecolors='k')\n",
        "plt.xlabel(\"x\")\n",
        "plt.ylabel(\"y\")\n",
        "plt.xlim(xx.min(),xx.max())\n",
        "plt.title('SVM with linear Kernel')\n",
        "plt.show()"
      ],
      "metadata": {
        "colab": {
          "base_uri": "https://localhost:8080/",
          "height": 295
        },
        "id": "KfEhtdpzKyr-",
        "outputId": "6e1a1194-6c59-4b83-a038-6ecd2fcbf43f"
      },
      "execution_count": null,
      "outputs": [
        {
          "output_type": "display_data",
          "data": {
            "text/plain": [
              "<Figure size 432x288 with 1 Axes>"
            ],
            "image/png": "[encoded data removed]"
          },
          "metadata": {
            "needs_background": "light"
          }
        }
      ]
    },
    {
      "cell_type": "code",
      "source": [
        "def make_meshgrid(x, y, h=.02):\n",
        "  x_min, x_max = x.min() - 1, x.max() + 1\n",
        "  y_min, y_max = y.min() - 1, y.max() + 1\n",
        "  xx, yy = np.meshgrid(np.arange(x_min, x_max, h), np.arange(y_min, y_max, h))\n",
        "  return xx, yy\n"
      ],
      "metadata": {
        "id": "fOcJmkk2HwZY"
      },
      "execution_count": null,
      "outputs": []
    },
    {
      "cell_type": "code",
      "source": [
        "def plot_contours(ax, clf, xx, yy, **params):\n",
        "  Z = clf.predict(np.c_[xx.ravel(), yy.ravel()])\n",
        "  Z = Z.reshape(xx.shape)\n",
        "  out = ax.contourf(xx, yy, Z, **params)\n",
        "  return out\n"
      ],
      "metadata": {
        "id": "pBwt-vz9Hz7e"
      },
      "execution_count": null,
      "outputs": []
    },
    {
      "cell_type": "code",
      "source": [
        "# Make predictions on unseen test data\n",
        "#clf_predictions = #############################\n",
        "print(\"Accuracy: {}%\".format(clf.score(x_test, y_test) * 100))"
      ],
      "metadata": {
        "colab": {
          "base_uri": "https://localhost:8080/"
        },
        "id": "Pel9rLiiLmQz",
        "outputId": "f104d348-1983-42b6-f8c5-b24b65d08254"
      },
      "execution_count": null,
      "outputs": [
        {
          "output_type": "stream",
          "name": "stdout",
          "text": [
            "Accuracy: 95.0%\n"
          ]
        }
      ]
    },
    {
      "cell_type": "code",
      "source": [
        "fig, ax = plt.subplots()\n",
        "# title for the plots\n",
        "title = ('Decision surface of linear SVC ')\n",
        "# Set-up grid for plotting.\n",
        "X0, X1 = X[:, 0], X[:, 1]\n",
        "xx, yy = make_meshgrid(X0, X1)\n",
        "plot_contours(ax, clf, xx, yy, cmap=plt.cm.coolwarm, alpha=0.8)\n",
        "ax.scatter(X0, X1, c=Y, cmap=plt.cm.coolwarm, s=20,edgecolors='k')\n",
        "ax.set_ylabel('y label here')\n",
        "ax.set_xlabel('x label here')\n",
        "ax.set_xticks(())\n",
        "ax.set_yticks(())\n",
        "ax.set_title(title)\n",
        "ax.legend()\n",
        "plt.show()\n"
      ],
      "metadata": {
        "colab": {
          "base_uri": "https://localhost:8080/",
          "height": 320
        },
        "id": "ZYB8VpaILpbb",
        "outputId": "032c1d14-a1e0-443e-f70a-b8a4e05b16ae"
      },
      "execution_count": null,
      "outputs": [
        {
          "output_type": "stream",
          "name": "stderr",
          "text": [
            "WARNING:matplotlib.legend:No artists with labels found to put in legend.  Note that artists whose label start with an underscore are ignored when legend() is called with no argument.\n"
          ]
        },
        {
          "output_type": "display_data",
          "data": {
            "text/plain": [
              "<Figure size 432x288 with 1 Axes>"
            ],
            "image/png": "[encoded data removed]"
          },
          "metadata": {}
        }
      ]
    },
    {
      "cell_type": "code",
      "source": [
        "# importing scikit learn with make_blobs\n",
        "from sklearn.datasets import make_blobs\n",
        "# creating datasets X containing n_samples\n",
        "# Y containing two classes\n",
        "X, Y = make_blobs(n_samples=100,n_features=2,centers=2)\n",
        "print(X.shape)\n",
        "print(Y)"
      ],
      "metadata": {
        "colab": {
          "base_uri": "https://localhost:8080/"
        },
        "id": "DK7123cUSGdO",
        "outputId": "74d49ed7-46c1-44d8-e6b3-528bd49f70f1"
      },
      "execution_count": null,
      "outputs": [
        {
          "output_type": "stream",
          "name": "stdout",
          "text": [
            "(100, 2)\n",
            "[1 1 1 0 0 1 1 0 0 1 1 0 0 0 1 0 1 1 1 1 0 0 0 0 0 0 0 1 1 0 0 1 0 0 1 1 0\n",
            " 0 1 1 0 1 1 0 1 1 0 1 0 0 1 1 1 0 0 1 1 1 1 0 1 1 1 0 0 1 0 0 0 1 0 1 0 1\n",
            " 1 0 0 1 1 0 1 1 0 0 1 1 0 0 1 1 1 0 0 1 0 0 0 0 0 1]\n"
          ]
        }
      ]
    },
    {
      "cell_type": "code",
      "source": [
        "# plotting scatters\n",
        "plt.scatter(X[:,0],X[:,1],c=Y,s=10)"
      ],
      "metadata": {
        "colab": {
          "base_uri": "https://localhost:8080/",
          "height": 283
        },
        "id": "8qgqzprMSMJl",
        "outputId": "26316018-4d98-4da3-c97d-0b0db507f2d8"
      },
      "execution_count": null,
      "outputs": [
        {
          "output_type": "execute_result",
          "data": {
            "text/plain": [
              "<matplotlib.collections.PathCollection at 0x7f1fefb64f70>"
            ]
          },
          "metadata": {},
          "execution_count": 23
        },
        {
          "output_type": "display_data",
          "data": {
            "text/plain": [
              "<Figure size 432x288 with 1 Axes>"
            ],
            "image/png": "[encoded data removed]"
          },
          "metadata": {
            "needs_background": "light"
          }
        }
      ]
    },
    {
      "cell_type": "code",
      "source": [
        "# Split data to train and test on 80-20 ratio\n",
        "X_train, X_test, y_train, y_test = train_test_split(X,Y, train_size=0.8)\n",
        "print(X_train.shape)\n",
        "print(X_test.shape)"
      ],
      "metadata": {
        "colab": {
          "base_uri": "https://localhost:8080/"
        },
        "id": "lLzJtau2SQqk",
        "outputId": "90468010-5152-4e96-bd6f-92e2fbb431ee"
      },
      "execution_count": null,
      "outputs": [
        {
          "output_type": "stream",
          "name": "stdout",
          "text": [
            "(80, 2)\n",
            "(20, 2)\n"
          ]
        }
      ]
    },
    {
      "cell_type": "code",
      "source": [
        "from sklearn import svm\n",
        "# Create a linear SVM classifier\n",
        "clf = svm.SVC(kernel='linear')\n",
        "# Train classifier\n",
        "clf.fit(X_train,y_train)\n",
        "\n",
        "# # Plot decision function on training and test data\n",
        "# plot_decision_function(X_train, y_train, X_test, y_test, clf)"
      ],
      "metadata": {
        "colab": {
          "base_uri": "https://localhost:8080/",
          "height": 75
        },
        "id": "KXIO7D_FSS5M",
        "outputId": "1da74895-c9de-4f0d-f87c-1595736710ef"
      },
      "execution_count": null,
      "outputs": [
        {
          "output_type": "execute_result",
          "data": {
            "text/plain": [
              "SVC(kernel='linear')"
            ],
            "text/html": [
              "<style>#sk-container-id-2 {color: black;background-color: white;}#sk-container-id-2 pre{padding: 0;}#sk-container-id-2 div.sk-toggleable {background-color: white;}#sk-container-id-2 label.sk-toggleable__label {cursor: pointer;display: block;width: 100%;margin-bottom: 0;padding: 0.3em;box-sizing: border-box;text-align: center;}#sk-container-id-2 label.sk-toggleable__label-arrow:before {content: \"▸\";float: left;margin-right: 0.25em;color: #696969;}#sk-container-id-2 label.sk-toggleable__label-arrow:hover:before {color: black;}#sk-container-id-2 div.sk-estimator:hover label.sk-toggleable__label-arrow:before {color: black;}#sk-container-id-2 div.sk-toggleable__content {max-height: 0;max-width: 0;overflow: hidden;text-align: left;background-color: #f0f8ff;}#sk-container-id-2 div.sk-toggleable__content pre {margin: 0.2em;color: black;border-radius: 0.25em;background-color: #f0f8ff;}#sk-container-id-2 input.sk-toggleable__control:checked~div.sk-toggleable__content {max-height: 200px;max-width: 100%;overflow: auto;}#sk-container-id-2 input.sk-toggleable__control:checked~label.sk-toggleable__label-arrow:before {content: \"▾\";}#sk-container-id-2 div.sk-estimator input.sk-toggleable__control:checked~label.sk-toggleable__label {background-color: #d4ebff;}#sk-container-id-2 div.sk-label input.sk-toggleable__control:checked~label.sk-toggleable__label {background-color: #d4ebff;}#sk-container-id-2 input.sk-hidden--visually {border: 0;clip: rect(1px 1px 1px 1px);clip: rect(1px, 1px, 1px, 1px);height: 1px;margin: -1px;overflow: hidden;padding: 0;position: absolute;width: 1px;}#sk-container-id-2 div.sk-estimator {font-family: monospace;background-color: #f0f8ff;border: 1px dotted black;border-radius: 0.25em;box-sizing: border-box;margin-bottom: 0.5em;}#sk-container-id-2 div.sk-estimator:hover {background-color: #d4ebff;}#sk-container-id-2 div.sk-parallel-item::after {content: \"\";width: 100%;border-bottom: 1px solid gray;flex-grow: 1;}#sk-container-id-2 div.sk-label:hover label.sk-toggleable__label {background-color: #d4ebff;}#sk-container-id-2 div.sk-serial::before {content: \"\";position: absolute;border-left: 1px solid gray;box-sizing: border-box;top: 0;bottom: 0;left: 50%;z-index: 0;}#sk-container-id-2 div.sk-serial {display: flex;flex-direction: column;align-items: center;background-color: white;padding-right: 0.2em;padding-left: 0.2em;position: relative;}#sk-container-id-2 div.sk-item {position: relative;z-index: 1;}#sk-container-id-2 div.sk-parallel {display: flex;align-items: stretch;justify-content: center;background-color: white;position: relative;}#sk-container-id-2 div.sk-item::before, #sk-container-id-2 div.sk-parallel-item::before {content: \"\";position: absolute;border-left: 1px solid gray;box-sizing: border-box;top: 0;bottom: 0;left: 50%;z-index: -1;}#sk-container-id-2 div.sk-parallel-item {display: flex;flex-direction: column;z-index: 1;position: relative;background-color: white;}#sk-container-id-2 div.sk-parallel-item:first-child::after {align-self: flex-end;width: 50%;}#sk-container-id-2 div.sk-parallel-item:last-child::after {align-self: flex-start;width: 50%;}#sk-container-id-2 div.sk-parallel-item:only-child::after {width: 0;}#sk-container-id-2 div.sk-dashed-wrapped {border: 1px dashed gray;margin: 0 0.4em 0.5em 0.4em;box-sizing: border-box;padding-bottom: 0.4em;background-color: white;}#sk-container-id-2 div.sk-label label {font-family: monospace;font-weight: bold;display: inline-block;line-height: 1.2em;}#sk-container-id-2 div.sk-label-container {text-align: center;}#sk-container-id-2 div.sk-container {/* jupyter's `normalize.less` sets `[hidden] { display: none; }` but bootstrap.min.css set `[hidden] { display: none !important; }` so we also need the `!important` here to be able to override the default hidden behavior on the sphinx rendered scikit-learn.org. See: https://github.com/scikit-learn/scikit-learn/issues/21755 */display: inline-block !important;position: relative;}#sk-container-id-2 div.sk-text-repr-fallback {display: none;}</style><div id=\"sk-container-id-2\" class=\"sk-top-container\"><div class=\"sk-text-repr-fallback\"><pre>SVC(kernel=&#x27;linear&#x27;)</pre><b>In a Jupyter environment, please rerun this cell to show the HTML representation or trust the notebook. <br />On GitHub, the HTML representation is unable to render, please try loading this page with nbviewer.org.</b></div><div class=\"sk-container\" hidden><div class=\"sk-item\"><div class=\"sk-estimator sk-toggleable\"><input class=\"sk-toggleable__control sk-hidden--visually\" id=\"sk-estimator-id-2\" type=\"checkbox\" checked><label for=\"sk-estimator-id-2\" class=\"sk-toggleable__label sk-toggleable__label-arrow\">SVC</label><div class=\"sk-toggleable__content\"><pre>SVC(kernel=&#x27;linear&#x27;)</pre></div></div></div></div></div>"
            ]
          },
          "metadata": {},
          "execution_count": 25
        }
      ]
    },
    {
      "cell_type": "code",
      "source": [
        "# Make predictions on unseen test data\n",
        "clf_predictions = clf.predict(X_test)\n",
        "print(\"Accuracy: {}%\".format(clf.score(X_test, y_test) * 100 ))"
      ],
      "metadata": {
        "colab": {
          "base_uri": "https://localhost:8080/"
        },
        "id": "ZJwXxu1CSZs0",
        "outputId": "a1f59660-62b8-411c-9594-6f51c8e19adf"
      },
      "execution_count": null,
      "outputs": [
        {
          "output_type": "stream",
          "name": "stdout",
          "text": [
            "Accuracy: 100.0%\n"
          ]
        }
      ]
    },
    {
      "cell_type": "code",
      "source": [
        "plt.scatter(X_train[:, 0], X_train[:, 1], c=y_train, s=20, cmap=plt.cm.Paired)\n",
        "from sklearn.inspection import DecisionBoundaryDisplay\n",
        "# plot the decision function\n",
        "ax = plt.gca()\n",
        "DecisionBoundaryDisplay.from_estimator(\n",
        "    clf,\n",
        "    X_train,\n",
        "    plot_method=\"contour\",\n",
        "    colors=\"k\",\n",
        "    levels=[-1, 0, 1],\n",
        "    alpha=0.5,\n",
        "    linestyles=[\"--\", \"-\", \"--\"],\n",
        "    ax=ax,\n",
        ")\n",
        "# plot support vectors\n",
        "ax.scatter(\n",
        "    clf.support_vectors_[:, 0],\n",
        "    clf.support_vectors_[:, 1],\n",
        "    s=100,\n",
        "    linewidth=1,\n",
        "    facecolors=\"none\",\n",
        "    edgecolors=\"k\",\n",
        ")\n",
        "plt.show()"
      ],
      "metadata": {
        "colab": {
          "base_uri": "https://localhost:8080/",
          "height": 265
        },
        "id": "8GtB0tkdSczM",
        "outputId": "f785e35b-d1e0-441a-f4f9-f596c2eab1d2"
      },
      "execution_count": null,
      "outputs": [
        {
          "output_type": "display_data",
          "data": {
            "text/plain": [
              "<Figure size 432x288 with 1 Axes>"
            ],
            "image/png": "[encoded data removed]"
          },
          "metadata": {
            "needs_background": "light"
          }
        }
      ]
    },
    {
      "cell_type": "code",
      "source": [
        "plt.scatter(X_test[:, 0], X_test[:, 1], s=20, cmap=plt.cm.Paired)\n",
        "from sklearn.inspection import DecisionBoundaryDisplay\n",
        "# plot the decision function\n",
        "ax = plt.gca()\n",
        "DecisionBoundaryDisplay.from_estimator(\n",
        "    clf,\n",
        "    X_test,\n",
        "    plot_method=\"contour\",\n",
        "    colors=\"k\",\n",
        "    levels=[-1, 0, 1],\n",
        "    alpha=0.5,\n",
        "    linestyles=[\"--\", \"-\", \"--\"],\n",
        "    ax=ax,\n",
        ")\n",
        "# plot support vectors\n",
        "ax.scatter(\n",
        "    clf.support_vectors_[:, 0],\n",
        "    clf.support_vectors_[:, 1],\n",
        "    s=100,\n",
        "    linewidth=1,\n",
        "    facecolors=\"none\",\n",
        "    edgecolors=\"k\",\n",
        ")\n",
        "plt.show()"
      ],
      "metadata": {
        "colab": {
          "base_uri": "https://localhost:8080/",
          "height": 265
        },
        "id": "I2DBHxPuS8eN",
        "outputId": "69170e8b-a7b7-418f-e3b2-d75d231b2645"
      },
      "execution_count": null,
      "outputs": [
        {
          "output_type": "display_data",
          "data": {
            "text/plain": [
              "<Figure size 432x288 with 1 Axes>"
            ],
            "image/png": "[encoded data removed]"
          },
          "metadata": {
            "needs_background": "light"
          }
        }
      ]
    },
    {
      "cell_type": "code",
      "source": [
        "print(\"Accuracy: {}%\".format(clf.score(X_test, y_test) * 100))"
      ],
      "metadata": {
        "colab": {
          "base_uri": "https://localhost:8080/"
        },
        "id": "zbm9UKQVTOtD",
        "outputId": "57bdd820-b68e-4a08-bcd5-23528cd882de"
      },
      "execution_count": null,
      "outputs": [
        {
          "output_type": "stream",
          "name": "stdout",
          "text": [
            "Accuracy: 100.0%\n"
          ]
        }
      ]
    },
    {
      "cell_type": "code",
      "source": [
        "ig, ax = plt.subplots()\n",
        "# title for the plots\n",
        "title = ('Decision surface of linear SVC ')\n",
        "# Set-up grid for plotting.\n",
        "X0, X1 = X[:, 0], X[:, 1]\n",
        "xx, yy = make_meshgrid(X0, X1)\n",
        "plot_contours(ax, clf, xx, yy, cmap=plt.cm.coolwarm, alpha=0.8)\n",
        "\n",
        "5\n",
        "\n",
        "ax.scatter(X0, X1, c=Y, cmap=plt.cm.coolwarm, s=20,edgecolors='k')\n",
        "ax.set_ylabel('y label here')\n",
        "ax.set_xlabel('x label here')\n",
        "ax.set_xticks(())\n",
        "ax.set_yticks(())\n",
        "ax.set_title(title)\n",
        "ax.legend()\n",
        "plt.show()"
      ],
      "metadata": {
        "colab": {
          "base_uri": "https://localhost:8080/",
          "height": 320
        },
        "id": "msMa_YEsTRP-",
        "outputId": "23c0982d-3a31-4ed5-acf5-d5c2cc86c914"
      },
      "execution_count": null,
      "outputs": [
        {
          "output_type": "stream",
          "name": "stderr",
          "text": [
            "WARNING:matplotlib.legend:No artists with labels found to put in legend.  Note that artists whose label start with an underscore are ignored when legend() is called with no argument.\n"
          ]
        },
        {
          "output_type": "display_data",
          "data": {
            "text/plain": [
              "<Figure size 432x288 with 1 Axes>"
            ],
            "image/png": "[encoded data removed]"
          },
          "metadata": {}
        }
      ]
    },
    {
      "cell_type": "markdown",
      "source": [
        "#Part B Breast Cancer Prediction"
      ],
      "metadata": {
        "id": "joJrVAUNL4fC"
      }
    },
    {
      "cell_type": "code",
      "source": [
        "#Import scikit-learn dataset library\n",
        "from sklearn import datasets\n",
        "#Load dataset\n",
        "cancer = datasets.load_breast_cancer()"
      ],
      "metadata": {
        "id": "B0AbXps8L8l2"
      },
      "execution_count": null,
      "outputs": []
    },
    {
      "cell_type": "code",
      "source": [
        "import pandas as pd"
      ],
      "metadata": {
        "id": "5l8NnWoQMLNu"
      },
      "execution_count": null,
      "outputs": []
    },
    {
      "cell_type": "code",
      "source": [
        "df = pd.DataFrame(cancer.data,columns=cancer.feature_names)\n",
        "df['target'] = cancer.target\n",
        "df.tail()"
      ],
      "metadata": {
        "colab": {
          "base_uri": "https://localhost:8080/",
          "height": 334
        },
        "id": "puNorsmzNBll",
        "outputId": "b7accb89-13f7-4b34-fbc8-9928d80b1414"
      },
      "execution_count": null,
      "outputs": [
        {
          "output_type": "execute_result",
          "data": {
            "text/plain": [
              "     mean radius  mean texture  mean perimeter  mean area  mean smoothness  \\\n",
              "564        21.56         22.39          142.00     1479.0          0.11100   \n",
              "565        20.13         28.25          131.20     1261.0          0.09780   \n",
              "566        16.60         28.08          108.30      858.1          0.08455   \n",
              "567        20.60         29.33          140.10     1265.0          0.11780   \n",
              "568         7.76         24.54           47.92      181.0          0.05263   \n",
              "\n",
              "     mean compactness  mean concavity  mean concave points  mean symmetry  \\\n",
              "564           0.11590         0.24390              0.13890         0.1726   \n",
              "565           0.10340         0.14400              0.09791         0.1752   \n",
              "566           0.10230         0.09251              0.05302         0.1590   \n",
              "567           0.27700         0.35140              0.15200         0.2397   \n",
              "568           0.04362         0.00000              0.00000         0.1587   \n",
              "\n",
              "     mean fractal dimension  ...  worst texture  worst perimeter  worst area  \\\n",
              "564                 0.05623  ...          26.40           166.10      2027.0   \n",
              "565                 0.05533  ...          38.25           155.00      1731.0   \n",
              "566                 0.05648  ...          34.12           126.70      1124.0   \n",
              "567                 0.07016  ...          39.42           184.60      1821.0   \n",
              "568                 0.05884  ...          30.37            59.16       268.6   \n",
              "\n",
              "     worst smoothness  worst compactness  worst concavity  \\\n",
              "564           0.14100            0.21130           0.4107   \n",
              "565           0.11660            0.19220           0.3215   \n",
              "566           0.11390            0.30940           0.3403   \n",
              "567           0.16500            0.86810           0.9387   \n",
              "568           0.08996            0.06444           0.0000   \n",
              "\n",
              "     worst concave points  worst symmetry  worst fractal dimension  target  \n",
              "564                0.2216          0.2060                  0.07115       0  \n",
              "565                0.1628          0.2572                  0.06637       0  \n",
              "566                0.1418          0.2218                  0.07820       0  \n",
              "567                0.2650          0.4087                  0.12400       0  \n",
              "568                0.0000          0.2871                  0.07039       1  \n",
              "\n",
              "[5 rows x 31 columns]"
            ],
            "text/html": [
              "\n",
              "  <div id=\"df-356f805e-a8e8-401e-88be-96b1f1213c0b\">\n",
              "    <div class=\"colab-df-container\">\n",
              "      <div>\n",
              "<style scoped>\n",
              "    .dataframe tbody tr th:only-of-type {\n",
              "        vertical-align: middle;\n",
              "    }\n",
              "\n",
              "    .dataframe tbody tr th {\n",
              "        vertical-align: top;\n",
              "    }\n",
              "\n",
              "    .dataframe thead th {\n",
              "        text-align: right;\n",
              "    }\n",
              "</style>\n",
              "<table border=\"1\" class=\"dataframe\">\n",
              "  <thead>\n",
              "    <tr style=\"text-align: right;\">\n",
              "      <th></th>\n",
              "      <th>mean radius</th>\n",
              "      <th>mean texture</th>\n",
              "      <th>mean perimeter</th>\n",
              "      <th>mean area</th>\n",
              "      <th>mean smoothness</th>\n",
              "      <th>mean compactness</th>\n",
              "      <th>mean concavity</th>\n",
              "      <th>mean concave points</th>\n",
              "      <th>mean symmetry</th>\n",
              "      <th>mean fractal dimension</th>\n",
              "      <th>...</th>\n",
              "      <th>worst texture</th>\n",
              "      <th>worst perimeter</th>\n",
              "      <th>worst area</th>\n",
              "      <th>worst smoothness</th>\n",
              "      <th>worst compactness</th>\n",
              "      <th>worst concavity</th>\n",
              "      <th>worst concave points</th>\n",
              "      <th>worst symmetry</th>\n",
              "      <th>worst fractal dimension</th>\n",
              "      <th>target</th>\n",
              "    </tr>\n",
              "  </thead>\n",
              "  <tbody>\n",
              "    <tr>\n",
              "      <th>564</th>\n",
              "      <td>21.56</td>\n",
              "      <td>22.39</td>\n",
              "      <td>142.00</td>\n",
              "      <td>1479.0</td>\n",
              "      <td>0.11100</td>\n",
              "      <td>0.11590</td>\n",
              "      <td>0.24390</td>\n",
              "      <td>0.13890</td>\n",
              "      <td>0.1726</td>\n",
              "      <td>0.05623</td>\n",
              "      <td>...</td>\n",
              "      <td>26.40</td>\n",
              "      <td>166.10</td>\n",
              "      <td>2027.0</td>\n",
              "      <td>0.14100</td>\n",
              "      <td>0.21130</td>\n",
              "      <td>0.4107</td>\n",
              "      <td>0.2216</td>\n",
              "      <td>0.2060</td>\n",
              "      <td>0.07115</td>\n",
              "      <td>0</td>\n",
              "    </tr>\n",
              "    <tr>\n",
              "      <th>565</th>\n",
              "      <td>20.13</td>\n",
              "      <td>28.25</td>\n",
              "      <td>131.20</td>\n",
              "      <td>1261.0</td>\n",
              "      <td>0.09780</td>\n",
              "      <td>0.10340</td>\n",
              "      <td>0.14400</td>\n",
              "      <td>0.09791</td>\n",
              "      <td>0.1752</td>\n",
              "      <td>0.05533</td>\n",
              "      <td>...</td>\n",
              "      <td>38.25</td>\n",
              "      <td>155.00</td>\n",
              "      <td>1731.0</td>\n",
              "      <td>0.11660</td>\n",
              "      <td>0.19220</td>\n",
              "      <td>0.3215</td>\n",
              "      <td>0.1628</td>\n",
              "      <td>0.2572</td>\n",
              "      <td>0.06637</td>\n",
              "      <td>0</td>\n",
              "    </tr>\n",
              "    <tr>\n",
              "      <th>566</th>\n",
              "      <td>16.60</td>\n",
              "      <td>28.08</td>\n",
              "      <td>108.30</td>\n",
              "      <td>858.1</td>\n",
              "      <td>0.08455</td>\n",
              "      <td>0.10230</td>\n",
              "      <td>0.09251</td>\n",
              "      <td>0.05302</td>\n",
              "      <td>0.1590</td>\n",
              "      <td>0.05648</td>\n",
              "      <td>...</td>\n",
              "      <td>34.12</td>\n",
              "      <td>126.70</td>\n",
              "      <td>1124.0</td>\n",
              "      <td>0.11390</td>\n",
              "      <td>0.30940</td>\n",
              "      <td>0.3403</td>\n",
              "      <td>0.1418</td>\n",
              "      <td>0.2218</td>\n",
              "      <td>0.07820</td>\n",
              "      <td>0</td>\n",
              "    </tr>\n",
              "    <tr>\n",
              "      <th>567</th>\n",
              "      <td>20.60</td>\n",
              "      <td>29.33</td>\n",
              "      <td>140.10</td>\n",
              "      <td>1265.0</td>\n",
              "      <td>0.11780</td>\n",
              "      <td>0.27700</td>\n",
              "      <td>0.35140</td>\n",
              "      <td>0.15200</td>\n",
              "      <td>0.2397</td>\n",
              "      <td>0.07016</td>\n",
              "      <td>...</td>\n",
              "      <td>39.42</td>\n",
              "      <td>184.60</td>\n",
              "      <td>1821.0</td>\n",
              "      <td>0.16500</td>\n",
              "      <td>0.86810</td>\n",
              "      <td>0.9387</td>\n",
              "      <td>0.2650</td>\n",
              "      <td>0.4087</td>\n",
              "      <td>0.12400</td>\n",
              "      <td>0</td>\n",
              "    </tr>\n",
              "    <tr>\n",
              "      <th>568</th>\n",
              "      <td>7.76</td>\n",
              "      <td>24.54</td>\n",
              "      <td>47.92</td>\n",
              "      <td>181.0</td>\n",
              "      <td>0.05263</td>\n",
              "      <td>0.04362</td>\n",
              "      <td>0.00000</td>\n",
              "      <td>0.00000</td>\n",
              "      <td>0.1587</td>\n",
              "      <td>0.05884</td>\n",
              "      <td>...</td>\n",
              "      <td>30.37</td>\n",
              "      <td>59.16</td>\n",
              "      <td>268.6</td>\n",
              "      <td>0.08996</td>\n",
              "      <td>0.06444</td>\n",
              "      <td>0.0000</td>\n",
              "      <td>0.0000</td>\n",
              "      <td>0.2871</td>\n",
              "      <td>0.07039</td>\n",
              "      <td>1</td>\n",
              "    </tr>\n",
              "  </tbody>\n",
              "</table>\n",
              "<p>5 rows × 31 columns</p>\n",
              "</div>\n",
              "      <button class=\"colab-df-convert\" onclick=\"convertToInteractive('df-356f805e-a8e8-401e-88be-96b1f1213c0b')\"\n",
              "              title=\"Convert this dataframe to an interactive table.\"\n",
              "              style=\"display:none;\">\n",
              "        \n",
              "  <svg xmlns=\"http://www.w3.org/2000/svg\" height=\"24px\"viewBox=\"0 0 24 24\"\n",
              "       width=\"24px\">\n",
              "    <path d=\"M0 0h24v24H0V0z\" fill=\"none\"/>\n",
              "    <path d=\"M18.56 5.44l.94 2.06.94-2.06 2.06-.94-2.06-.94-.94-2.06-.94 2.06-2.06.94zm-11 1L8.5 8.5l.94-2.06 2.06-.94-2.06-.94L8.5 2.5l-.94 2.06-2.06.94zm10 10l.94 2.06.94-2.06 2.06-.94-2.06-.94-.94-2.06-.94 2.06-2.06.94z\"/><path d=\"M17.41 7.96l-1.37-1.37c-.4-.4-.92-.59-1.43-.59-.52 0-1.04.2-1.43.59L10.3 9.45l-7.72 7.72c-.78.78-.78 2.05 0 2.83L4 21.41c.39.39.9.59 1.41.59.51 0 1.02-.2 1.41-.59l7.78-7.78 2.81-2.81c.8-.78.8-2.07 0-2.86zM5.41 20L4 18.59l7.72-7.72 1.47 1.35L5.41 20z\"/>\n",
              "  </svg>\n",
              "      </button>\n",
              "      \n",
              "  <style>\n",
              "    .colab-df-container {\n",
              "      display:flex;\n",
              "      flex-wrap:wrap;\n",
              "      gap: 12px;\n",
              "    }\n",
              "\n",
              "    .colab-df-convert {\n",
              "      background-color: #E8F0FE;\n",
              "      border: none;\n",
              "      border-radius: 50%;\n",
              "      cursor: pointer;\n",
              "      display: none;\n",
              "      fill: #1967D2;\n",
              "      height: 32px;\n",
              "      padding: 0 0 0 0;\n",
              "      width: 32px;\n",
              "    }\n",
              "\n",
              "    .colab-df-convert:hover {\n",
              "      background-color: #E2EBFA;\n",
              "      box-shadow: 0px 1px 2px rgba(60, 64, 67, 0.3), 0px 1px 3px 1px rgba(60, 64, 67, 0.15);\n",
              "      fill: #174EA6;\n",
              "    }\n",
              "\n",
              "    [theme=dark] .colab-df-convert {\n",
              "      background-color: #3B4455;\n",
              "      fill: #D2E3FC;\n",
              "    }\n",
              "\n",
              "    [theme=dark] .colab-df-convert:hover {\n",
              "      background-color: #434B5C;\n",
              "      box-shadow: 0px 1px 3px 1px rgba(0, 0, 0, 0.15);\n",
              "      filter: drop-shadow(0px 1px 2px rgba(0, 0, 0, 0.3));\n",
              "      fill: #FFFFFF;\n",
              "    }\n",
              "  </style>\n",
              "\n",
              "      <script>\n",
              "        const buttonEl =\n",
              "          document.querySelector('#df-356f805e-a8e8-401e-88be-96b1f1213c0b button.colab-df-convert');\n",
              "        buttonEl.style.display =\n",
              "          google.colab.kernel.accessAllowed ? 'block' : 'none';\n",
              "\n",
              "        async function convertToInteractive(key) {\n",
              "          const element = document.querySelector('#df-356f805e-a8e8-401e-88be-96b1f1213c0b');\n",
              "          const dataTable =\n",
              "            await google.colab.kernel.invokeFunction('convertToInteractive',\n",
              "                                                     [key], {});\n",
              "          if (!dataTable) return;\n",
              "\n",
              "          const docLinkHtml = 'Like what you see? Visit the ' +\n",
              "            '<a target=\"_blank\" href=https://colab.research.google.com/notebooks/data_table.ipynb>data table notebook</a>'\n",
              "            + ' to learn more about interactive tables.';\n",
              "          element.innerHTML = '';\n",
              "          dataTable['output_type'] = 'display_data';\n",
              "          await google.colab.output.renderOutput(dataTable, element);\n",
              "          const docLink = document.createElement('div');\n",
              "          docLink.innerHTML = docLinkHtml;\n",
              "          element.appendChild(docLink);\n",
              "        }\n",
              "      </script>\n",
              "    </div>\n",
              "  </div>\n",
              "  "
            ]
          },
          "metadata": {},
          "execution_count": 33
        }
      ]
    },
    {
      "cell_type": "code",
      "source": [
        "cancer.feature_names"
      ],
      "metadata": {
        "colab": {
          "base_uri": "https://localhost:8080/"
        },
        "id": "y1YrLnCbNQ2W",
        "outputId": "449cf307-b68a-4b16-aefe-4bb9372575d5"
      },
      "execution_count": null,
      "outputs": [
        {
          "output_type": "execute_result",
          "data": {
            "text/plain": [
              "array(['mean radius', 'mean texture', 'mean perimeter', 'mean area',\n",
              "       'mean smoothness', 'mean compactness', 'mean concavity',\n",
              "       'mean concave points', 'mean symmetry', 'mean fractal dimension',\n",
              "       'radius error', 'texture error', 'perimeter error', 'area error',\n",
              "       'smoothness error', 'compactness error', 'concavity error',\n",
              "       'concave points error', 'symmetry error',\n",
              "       'fractal dimension error', 'worst radius', 'worst texture',\n",
              "       'worst perimeter', 'worst area', 'worst smoothness',\n",
              "       'worst compactness', 'worst concavity', 'worst concave points',\n",
              "       'worst symmetry', 'worst fractal dimension'], dtype='<U23')"
            ]
          },
          "metadata": {},
          "execution_count": 34
        }
      ]
    },
    {
      "cell_type": "code",
      "source": [
        "cancer.target_names"
      ],
      "metadata": {
        "colab": {
          "base_uri": "https://localhost:8080/"
        },
        "id": "GoG1axHFNY_t",
        "outputId": "bc124581-e1d2-4b7f-f469-b8e59c6ef66f"
      },
      "execution_count": null,
      "outputs": [
        {
          "output_type": "execute_result",
          "data": {
            "text/plain": [
              "array(['malignant', 'benign'], dtype='<U9')"
            ]
          },
          "metadata": {},
          "execution_count": 35
        }
      ]
    },
    {
      "cell_type": "code",
      "source": [
        "cancer.target"
      ],
      "metadata": {
        "colab": {
          "base_uri": "https://localhost:8080/"
        },
        "id": "hNiqs87jN-7d",
        "outputId": "57302ca6-ad1b-4c39-aa11-b3d6c8889f41"
      },
      "execution_count": null,
      "outputs": [
        {
          "output_type": "execute_result",
          "data": {
            "text/plain": [
              "array([0, 0, 0, 0, 0, 0, 0, 0, 0, 0, 0, 0, 0, 0, 0, 0, 0, 0, 0, 1, 1, 1,\n",
              "       0, 0, 0, 0, 0, 0, 0, 0, 0, 0, 0, 0, 0, 0, 0, 1, 0, 0, 0, 0, 0, 0,\n",
              "       0, 0, 1, 0, 1, 1, 1, 1, 1, 0, 0, 1, 0, 0, 1, 1, 1, 1, 0, 1, 0, 0,\n",
              "       1, 1, 1, 1, 0, 1, 0, 0, 1, 0, 1, 0, 0, 1, 1, 1, 0, 0, 1, 0, 0, 0,\n",
              "       1, 1, 1, 0, 1, 1, 0, 0, 1, 1, 1, 0, 0, 1, 1, 1, 1, 0, 1, 1, 0, 1,\n",
              "       1, 1, 1, 1, 1, 1, 1, 0, 0, 0, 1, 0, 0, 1, 1, 1, 0, 0, 1, 0, 1, 0,\n",
              "       0, 1, 0, 0, 1, 1, 0, 1, 1, 0, 1, 1, 1, 1, 0, 1, 1, 1, 1, 1, 1, 1,\n",
              "       1, 1, 0, 1, 1, 1, 1, 0, 0, 1, 0, 1, 1, 0, 0, 1, 1, 0, 0, 1, 1, 1,\n",
              "       1, 0, 1, 1, 0, 0, 0, 1, 0, 1, 0, 1, 1, 1, 0, 1, 1, 0, 0, 1, 0, 0,\n",
              "       0, 0, 1, 0, 0, 0, 1, 0, 1, 0, 1, 1, 0, 1, 0, 0, 0, 0, 1, 1, 0, 0,\n",
              "       1, 1, 1, 0, 1, 1, 1, 1, 1, 0, 0, 1, 1, 0, 1, 1, 0, 0, 1, 0, 1, 1,\n",
              "       1, 1, 0, 1, 1, 1, 1, 1, 0, 1, 0, 0, 0, 0, 0, 0, 0, 0, 0, 0, 0, 0,\n",
              "       0, 0, 1, 1, 1, 1, 1, 1, 0, 1, 0, 1, 1, 0, 1, 1, 0, 1, 0, 0, 1, 1,\n",
              "       1, 1, 1, 1, 1, 1, 1, 1, 1, 1, 1, 0, 1, 1, 0, 1, 0, 1, 1, 1, 1, 1,\n",
              "       1, 1, 1, 1, 1, 1, 1, 1, 1, 0, 1, 1, 1, 0, 1, 0, 1, 1, 1, 1, 0, 0,\n",
              "       0, 1, 1, 1, 1, 0, 1, 0, 1, 0, 1, 1, 1, 0, 1, 1, 1, 1, 1, 1, 1, 0,\n",
              "       0, 0, 1, 1, 1, 1, 1, 1, 1, 1, 1, 1, 1, 0, 0, 1, 0, 0, 0, 1, 0, 0,\n",
              "       1, 1, 1, 1, 1, 0, 1, 1, 1, 1, 1, 0, 1, 1, 1, 0, 1, 1, 0, 0, 1, 1,\n",
              "       1, 1, 1, 1, 0, 1, 1, 1, 1, 1, 1, 1, 0, 1, 1, 1, 1, 1, 0, 1, 1, 0,\n",
              "       1, 1, 1, 1, 1, 1, 1, 1, 1, 1, 1, 1, 0, 1, 0, 0, 1, 0, 1, 1, 1, 1,\n",
              "       1, 0, 1, 1, 0, 1, 0, 1, 1, 0, 1, 0, 1, 1, 1, 1, 1, 1, 1, 1, 0, 0,\n",
              "       1, 1, 1, 1, 1, 1, 0, 1, 1, 1, 1, 1, 1, 1, 1, 1, 1, 0, 1, 1, 1, 1,\n",
              "       1, 1, 1, 0, 1, 0, 1, 1, 0, 1, 1, 1, 1, 1, 0, 0, 1, 0, 1, 0, 1, 1,\n",
              "       1, 1, 1, 0, 1, 1, 0, 1, 0, 1, 0, 0, 1, 1, 1, 0, 1, 1, 1, 1, 1, 1,\n",
              "       1, 1, 1, 1, 1, 0, 1, 0, 0, 1, 1, 1, 1, 1, 1, 1, 1, 1, 1, 1, 1, 1,\n",
              "       1, 1, 1, 1, 1, 1, 1, 1, 1, 1, 1, 1, 0, 0, 0, 0, 0, 0, 1])"
            ]
          },
          "metadata": {},
          "execution_count": 36
        }
      ]
    },
    {
      "cell_type": "code",
      "source": [
        "df.shape"
      ],
      "metadata": {
        "colab": {
          "base_uri": "https://localhost:8080/"
        },
        "id": "vhF25toKOT2N",
        "outputId": "c6f3d786-54c9-4833-f896-f8ffd1ae3463"
      },
      "execution_count": null,
      "outputs": [
        {
          "output_type": "execute_result",
          "data": {
            "text/plain": [
              "(569, 31)"
            ]
          },
          "metadata": {},
          "execution_count": 37
        }
      ]
    },
    {
      "cell_type": "code",
      "source": [
        "cancer.target_names"
      ],
      "metadata": {
        "colab": {
          "base_uri": "https://localhost:8080/"
        },
        "id": "uJ8v006DPf_m",
        "outputId": "c8996aee-f840-4b9f-dabe-4a87d3a063a4"
      },
      "execution_count": null,
      "outputs": [
        {
          "output_type": "execute_result",
          "data": {
            "text/plain": [
              "array(['malignant', 'benign'], dtype='<U9')"
            ]
          },
          "metadata": {},
          "execution_count": 38
        }
      ]
    },
    {
      "cell_type": "code",
      "source": [
        "X = pd.DataFrame(cancer.data,columns=cancer.feature_names)\n",
        "Y = df['target']\n",
        "Y"
      ],
      "metadata": {
        "colab": {
          "base_uri": "https://localhost:8080/"
        },
        "id": "LX1mX1L2QK3E",
        "outputId": "fc08f182-76f7-472c-c374-e0164ed6cafb"
      },
      "execution_count": null,
      "outputs": [
        {
          "output_type": "execute_result",
          "data": {
            "text/plain": [
              "0      0\n",
              "1      0\n",
              "2      0\n",
              "3      0\n",
              "4      0\n",
              "      ..\n",
              "564    0\n",
              "565    0\n",
              "566    0\n",
              "567    0\n",
              "568    1\n",
              "Name: target, Length: 569, dtype: int64"
            ]
          },
          "metadata": {},
          "execution_count": 39
        }
      ]
    },
    {
      "cell_type": "code",
      "source": [
        "import numpy as np # linear algebra\n",
        "import pandas as pd \n",
        "\n",
        "import matplotlib.pyplot as plt\n",
        "import scipy.stats as stats\n",
        "import seaborn as sns\n",
        "import xgboost as xgb\n",
        "from sklearn.model_selection import KFold\n",
        "from IPython.display import HTML, display\n",
        "from sklearn.manifold import TSNE\n",
        "from sklearn.decomposition import PCA\n",
        "from sklearn.preprocessing import StandardScaler\n"
      ],
      "metadata": {
        "id": "Lj75rY_aQKwV"
      },
      "execution_count": null,
      "outputs": []
    },
    {
      "cell_type": "code",
      "source": [
        "data = datasets.load_breast_cancer()\n",
        "data = pd.DataFrame(cancer.data,columns=cancer.feature_names)\n",
        "data['target'] = cancer.target\n",
        "data.tail()"
      ],
      "metadata": {
        "colab": {
          "base_uri": "https://localhost:8080/",
          "height": 334
        },
        "id": "9d7_fUL_UDV-",
        "outputId": "6bcdd0f5-830f-44c3-e70e-416ba1358f61"
      },
      "execution_count": null,
      "outputs": [
        {
          "output_type": "execute_result",
          "data": {
            "text/plain": [
              "     mean radius  mean texture  mean perimeter  mean area  mean smoothness  \\\n",
              "564        21.56         22.39          142.00     1479.0          0.11100   \n",
              "565        20.13         28.25          131.20     1261.0          0.09780   \n",
              "566        16.60         28.08          108.30      858.1          0.08455   \n",
              "567        20.60         29.33          140.10     1265.0          0.11780   \n",
              "568         7.76         24.54           47.92      181.0          0.05263   \n",
              "\n",
              "     mean compactness  mean concavity  mean concave points  mean symmetry  \\\n",
              "564           0.11590         0.24390              0.13890         0.1726   \n",
              "565           0.10340         0.14400              0.09791         0.1752   \n",
              "566           0.10230         0.09251              0.05302         0.1590   \n",
              "567           0.27700         0.35140              0.15200         0.2397   \n",
              "568           0.04362         0.00000              0.00000         0.1587   \n",
              "\n",
              "     mean fractal dimension  ...  worst texture  worst perimeter  worst area  \\\n",
              "564                 0.05623  ...          26.40           166.10      2027.0   \n",
              "565                 0.05533  ...          38.25           155.00      1731.0   \n",
              "566                 0.05648  ...          34.12           126.70      1124.0   \n",
              "567                 0.07016  ...          39.42           184.60      1821.0   \n",
              "568                 0.05884  ...          30.37            59.16       268.6   \n",
              "\n",
              "     worst smoothness  worst compactness  worst concavity  \\\n",
              "564           0.14100            0.21130           0.4107   \n",
              "565           0.11660            0.19220           0.3215   \n",
              "566           0.11390            0.30940           0.3403   \n",
              "567           0.16500            0.86810           0.9387   \n",
              "568           0.08996            0.06444           0.0000   \n",
              "\n",
              "     worst concave points  worst symmetry  worst fractal dimension  target  \n",
              "564                0.2216          0.2060                  0.07115       0  \n",
              "565                0.1628          0.2572                  0.06637       0  \n",
              "566                0.1418          0.2218                  0.07820       0  \n",
              "567                0.2650          0.4087                  0.12400       0  \n",
              "568                0.0000          0.2871                  0.07039       1  \n",
              "\n",
              "[5 rows x 31 columns]"
            ],
            "text/html": [
              "\n",
              "  <div id=\"df-afe9d158-dd84-4b82-9993-c318edd43381\">\n",
              "    <div class=\"colab-df-container\">\n",
              "      <div>\n",
              "<style scoped>\n",
              "    .dataframe tbody tr th:only-of-type {\n",
              "        vertical-align: middle;\n",
              "    }\n",
              "\n",
              "    .dataframe tbody tr th {\n",
              "        vertical-align: top;\n",
              "    }\n",
              "\n",
              "    .dataframe thead th {\n",
              "        text-align: right;\n",
              "    }\n",
              "</style>\n",
              "<table border=\"1\" class=\"dataframe\">\n",
              "  <thead>\n",
              "    <tr style=\"text-align: right;\">\n",
              "      <th></th>\n",
              "      <th>mean radius</th>\n",
              "      <th>mean texture</th>\n",
              "      <th>mean perimeter</th>\n",
              "      <th>mean area</th>\n",
              "      <th>mean smoothness</th>\n",
              "      <th>mean compactness</th>\n",
              "      <th>mean concavity</th>\n",
              "      <th>mean concave points</th>\n",
              "      <th>mean symmetry</th>\n",
              "      <th>mean fractal dimension</th>\n",
              "      <th>...</th>\n",
              "      <th>worst texture</th>\n",
              "      <th>worst perimeter</th>\n",
              "      <th>worst area</th>\n",
              "      <th>worst smoothness</th>\n",
              "      <th>worst compactness</th>\n",
              "      <th>worst concavity</th>\n",
              "      <th>worst concave points</th>\n",
              "      <th>worst symmetry</th>\n",
              "      <th>worst fractal dimension</th>\n",
              "      <th>target</th>\n",
              "    </tr>\n",
              "  </thead>\n",
              "  <tbody>\n",
              "    <tr>\n",
              "      <th>564</th>\n",
              "      <td>21.56</td>\n",
              "      <td>22.39</td>\n",
              "      <td>142.00</td>\n",
              "      <td>1479.0</td>\n",
              "      <td>0.11100</td>\n",
              "      <td>0.11590</td>\n",
              "      <td>0.24390</td>\n",
              "      <td>0.13890</td>\n",
              "      <td>0.1726</td>\n",
              "      <td>0.05623</td>\n",
              "      <td>...</td>\n",
              "      <td>26.40</td>\n",
              "      <td>166.10</td>\n",
              "      <td>2027.0</td>\n",
              "      <td>0.14100</td>\n",
              "      <td>0.21130</td>\n",
              "      <td>0.4107</td>\n",
              "      <td>0.2216</td>\n",
              "      <td>0.2060</td>\n",
              "      <td>0.07115</td>\n",
              "      <td>0</td>\n",
              "    </tr>\n",
              "    <tr>\n",
              "      <th>565</th>\n",
              "      <td>20.13</td>\n",
              "      <td>28.25</td>\n",
              "      <td>131.20</td>\n",
              "      <td>1261.0</td>\n",
              "      <td>0.09780</td>\n",
              "      <td>0.10340</td>\n",
              "      <td>0.14400</td>\n",
              "      <td>0.09791</td>\n",
              "      <td>0.1752</td>\n",
              "      <td>0.05533</td>\n",
              "      <td>...</td>\n",
              "      <td>38.25</td>\n",
              "      <td>155.00</td>\n",
              "      <td>1731.0</td>\n",
              "      <td>0.11660</td>\n",
              "      <td>0.19220</td>\n",
              "      <td>0.3215</td>\n",
              "      <td>0.1628</td>\n",
              "      <td>0.2572</td>\n",
              "      <td>0.06637</td>\n",
              "      <td>0</td>\n",
              "    </tr>\n",
              "    <tr>\n",
              "      <th>566</th>\n",
              "      <td>16.60</td>\n",
              "      <td>28.08</td>\n",
              "      <td>108.30</td>\n",
              "      <td>858.1</td>\n",
              "      <td>0.08455</td>\n",
              "      <td>0.10230</td>\n",
              "      <td>0.09251</td>\n",
              "      <td>0.05302</td>\n",
              "      <td>0.1590</td>\n",
              "      <td>0.05648</td>\n",
              "      <td>...</td>\n",
              "      <td>34.12</td>\n",
              "      <td>126.70</td>\n",
              "      <td>1124.0</td>\n",
              "      <td>0.11390</td>\n",
              "      <td>0.30940</td>\n",
              "      <td>0.3403</td>\n",
              "      <td>0.1418</td>\n",
              "      <td>0.2218</td>\n",
              "      <td>0.07820</td>\n",
              "      <td>0</td>\n",
              "    </tr>\n",
              "    <tr>\n",
              "      <th>567</th>\n",
              "      <td>20.60</td>\n",
              "      <td>29.33</td>\n",
              "      <td>140.10</td>\n",
              "      <td>1265.0</td>\n",
              "      <td>0.11780</td>\n",
              "      <td>0.27700</td>\n",
              "      <td>0.35140</td>\n",
              "      <td>0.15200</td>\n",
              "      <td>0.2397</td>\n",
              "      <td>0.07016</td>\n",
              "      <td>...</td>\n",
              "      <td>39.42</td>\n",
              "      <td>184.60</td>\n",
              "      <td>1821.0</td>\n",
              "      <td>0.16500</td>\n",
              "      <td>0.86810</td>\n",
              "      <td>0.9387</td>\n",
              "      <td>0.2650</td>\n",
              "      <td>0.4087</td>\n",
              "      <td>0.12400</td>\n",
              "      <td>0</td>\n",
              "    </tr>\n",
              "    <tr>\n",
              "      <th>568</th>\n",
              "      <td>7.76</td>\n",
              "      <td>24.54</td>\n",
              "      <td>47.92</td>\n",
              "      <td>181.0</td>\n",
              "      <td>0.05263</td>\n",
              "      <td>0.04362</td>\n",
              "      <td>0.00000</td>\n",
              "      <td>0.00000</td>\n",
              "      <td>0.1587</td>\n",
              "      <td>0.05884</td>\n",
              "      <td>...</td>\n",
              "      <td>30.37</td>\n",
              "      <td>59.16</td>\n",
              "      <td>268.6</td>\n",
              "      <td>0.08996</td>\n",
              "      <td>0.06444</td>\n",
              "      <td>0.0000</td>\n",
              "      <td>0.0000</td>\n",
              "      <td>0.2871</td>\n",
              "      <td>0.07039</td>\n",
              "      <td>1</td>\n",
              "    </tr>\n",
              "  </tbody>\n",
              "</table>\n",
              "<p>5 rows × 31 columns</p>\n",
              "</div>\n",
              "      <button class=\"colab-df-convert\" onclick=\"convertToInteractive('df-afe9d158-dd84-4b82-9993-c318edd43381')\"\n",
              "              title=\"Convert this dataframe to an interactive table.\"\n",
              "              style=\"display:none;\">\n",
              "        \n",
              "  <svg xmlns=\"http://www.w3.org/2000/svg\" height=\"24px\"viewBox=\"0 0 24 24\"\n",
              "       width=\"24px\">\n",
              "    <path d=\"M0 0h24v24H0V0z\" fill=\"none\"/>\n",
              "    <path d=\"M18.56 5.44l.94 2.06.94-2.06 2.06-.94-2.06-.94-.94-2.06-.94 2.06-2.06.94zm-11 1L8.5 8.5l.94-2.06 2.06-.94-2.06-.94L8.5 2.5l-.94 2.06-2.06.94zm10 10l.94 2.06.94-2.06 2.06-.94-2.06-.94-.94-2.06-.94 2.06-2.06.94z\"/><path d=\"M17.41 7.96l-1.37-1.37c-.4-.4-.92-.59-1.43-.59-.52 0-1.04.2-1.43.59L10.3 9.45l-7.72 7.72c-.78.78-.78 2.05 0 2.83L4 21.41c.39.39.9.59 1.41.59.51 0 1.02-.2 1.41-.59l7.78-7.78 2.81-2.81c.8-.78.8-2.07 0-2.86zM5.41 20L4 18.59l7.72-7.72 1.47 1.35L5.41 20z\"/>\n",
              "  </svg>\n",
              "      </button>\n",
              "      \n",
              "  <style>\n",
              "    .colab-df-container {\n",
              "      display:flex;\n",
              "      flex-wrap:wrap;\n",
              "      gap: 12px;\n",
              "    }\n",
              "\n",
              "    .colab-df-convert {\n",
              "      background-color: #E8F0FE;\n",
              "      border: none;\n",
              "      border-radius: 50%;\n",
              "      cursor: pointer;\n",
              "      display: none;\n",
              "      fill: #1967D2;\n",
              "      height: 32px;\n",
              "      padding: 0 0 0 0;\n",
              "      width: 32px;\n",
              "    }\n",
              "\n",
              "    .colab-df-convert:hover {\n",
              "      background-color: #E2EBFA;\n",
              "      box-shadow: 0px 1px 2px rgba(60, 64, 67, 0.3), 0px 1px 3px 1px rgba(60, 64, 67, 0.15);\n",
              "      fill: #174EA6;\n",
              "    }\n",
              "\n",
              "    [theme=dark] .colab-df-convert {\n",
              "      background-color: #3B4455;\n",
              "      fill: #D2E3FC;\n",
              "    }\n",
              "\n",
              "    [theme=dark] .colab-df-convert:hover {\n",
              "      background-color: #434B5C;\n",
              "      box-shadow: 0px 1px 3px 1px rgba(0, 0, 0, 0.15);\n",
              "      filter: drop-shadow(0px 1px 2px rgba(0, 0, 0, 0.3));\n",
              "      fill: #FFFFFF;\n",
              "    }\n",
              "  </style>\n",
              "\n",
              "      <script>\n",
              "        const buttonEl =\n",
              "          document.querySelector('#df-afe9d158-dd84-4b82-9993-c318edd43381 button.colab-df-convert');\n",
              "        buttonEl.style.display =\n",
              "          google.colab.kernel.accessAllowed ? 'block' : 'none';\n",
              "\n",
              "        async function convertToInteractive(key) {\n",
              "          const element = document.querySelector('#df-afe9d158-dd84-4b82-9993-c318edd43381');\n",
              "          const dataTable =\n",
              "            await google.colab.kernel.invokeFunction('convertToInteractive',\n",
              "                                                     [key], {});\n",
              "          if (!dataTable) return;\n",
              "\n",
              "          const docLinkHtml = 'Like what you see? Visit the ' +\n",
              "            '<a target=\"_blank\" href=https://colab.research.google.com/notebooks/data_table.ipynb>data table notebook</a>'\n",
              "            + ' to learn more about interactive tables.';\n",
              "          element.innerHTML = '';\n",
              "          dataTable['output_type'] = 'display_data';\n",
              "          await google.colab.output.renderOutput(dataTable, element);\n",
              "          const docLink = document.createElement('div');\n",
              "          docLink.innerHTML = docLinkHtml;\n",
              "          element.appendChild(docLink);\n",
              "        }\n",
              "      </script>\n",
              "    </div>\n",
              "  </div>\n",
              "  "
            ]
          },
          "metadata": {},
          "execution_count": 41
        }
      ]
    },
    {
      "cell_type": "code",
      "source": [
        "def data_checks(df: pd.DataFrame):\n",
        "        \"\"\"\n",
        "        perform checks in the dataset\n",
        "\n",
        "        args: \n",
        "            df (pd.DataFrame): the DataFrame which we are performing checks\n",
        "        \n",
        "        returns:\n",
        "            dictionary of checks\n",
        "\n",
        "        \"\"\"\n",
        "        checks = {\n",
        "            \"info\":df.info(),\n",
        "            \"shape\":df.shape,\n",
        "            \"uniqueness\":df.apply(lambda x: len(x.unique())).sort_values(ascending=False).head(10),\n",
        "            \"missing_values\":df.isnull().sum(),\n",
        "            \"duplicates\":df.duplicated().sum(),\n",
        "            \"data_snapshot\":df.head()\n",
        "\n",
        "        }\n",
        "        return checks\n",
        "data_checks(data)"
      ],
      "metadata": {
        "colab": {
          "base_uri": "https://localhost:8080/"
        },
        "id": "WfJX5jglUQ6s",
        "outputId": "8aab22fa-43b7-4c8b-dcde-fda5e272dd0a"
      },
      "execution_count": null,
      "outputs": [
        {
          "output_type": "stream",
          "name": "stdout",
          "text": [
            "<class 'pandas.core.frame.DataFrame'>\n",
            "RangeIndex: 569 entries, 0 to 568\n",
            "Data columns (total 31 columns):\n",
            " #   Column                   Non-Null Count  Dtype  \n",
            "---  ------                   --------------  -----  \n",
            " 0   mean radius              569 non-null    float64\n",
            " 1   mean texture             569 non-null    float64\n",
            " 2   mean perimeter           569 non-null    float64\n",
            " 3   mean area                569 non-null    float64\n",
            " 4   mean smoothness          569 non-null    float64\n",
            " 5   mean compactness         569 non-null    float64\n",
            " 6   mean concavity           569 non-null    float64\n",
            " 7   mean concave points      569 non-null    float64\n",
            " 8   mean symmetry            569 non-null    float64\n",
            " 9   mean fractal dimension   569 non-null    float64\n",
            " 10  radius error             569 non-null    float64\n",
            " 11  texture error            569 non-null    float64\n",
            " 12  perimeter error          569 non-null    float64\n",
            " 13  area error               569 non-null    float64\n",
            " 14  smoothness error         569 non-null    float64\n",
            " 15  compactness error        569 non-null    float64\n",
            " 16  concavity error          569 non-null    float64\n",
            " 17  concave points error     569 non-null    float64\n",
            " 18  symmetry error           569 non-null    float64\n",
            " 19  fractal dimension error  569 non-null    float64\n",
            " 20  worst radius             569 non-null    float64\n",
            " 21  worst texture            569 non-null    float64\n",
            " 22  worst perimeter          569 non-null    float64\n",
            " 23  worst area               569 non-null    float64\n",
            " 24  worst smoothness         569 non-null    float64\n",
            " 25  worst compactness        569 non-null    float64\n",
            " 26  worst concavity          569 non-null    float64\n",
            " 27  worst concave points     569 non-null    float64\n",
            " 28  worst symmetry           569 non-null    float64\n",
            " 29  worst fractal dimension  569 non-null    float64\n",
            " 30  target                   569 non-null    int64  \n",
            "dtypes: float64(30), int64(1)\n",
            "memory usage: 137.9 KB\n"
          ]
        },
        {
          "output_type": "execute_result",
          "data": {
            "text/plain": [
              "{'info': None, 'shape': (569, 31), 'uniqueness': smoothness error           547\n",
              " fractal dimension error    545\n",
              " worst area                 544\n",
              " mean concave points        542\n",
              " compactness error          541\n",
              " radius error               540\n",
              " worst concavity            539\n",
              " mean area                  539\n",
              " mean concavity             537\n",
              " mean compactness           537\n",
              " dtype: int64, 'missing_values': mean radius                0\n",
              " mean texture               0\n",
              " mean perimeter             0\n",
              " mean area                  0\n",
              " mean smoothness            0\n",
              " mean compactness           0\n",
              " mean concavity             0\n",
              " mean concave points        0\n",
              " mean symmetry              0\n",
              " mean fractal dimension     0\n",
              " radius error               0\n",
              " texture error              0\n",
              " perimeter error            0\n",
              " area error                 0\n",
              " smoothness error           0\n",
              " compactness error          0\n",
              " concavity error            0\n",
              " concave points error       0\n",
              " symmetry error             0\n",
              " fractal dimension error    0\n",
              " worst radius               0\n",
              " worst texture              0\n",
              " worst perimeter            0\n",
              " worst area                 0\n",
              " worst smoothness           0\n",
              " worst compactness          0\n",
              " worst concavity            0\n",
              " worst concave points       0\n",
              " worst symmetry             0\n",
              " worst fractal dimension    0\n",
              " target                     0\n",
              " dtype: int64, 'duplicates': 0, 'data_snapshot':    mean radius  mean texture  mean perimeter  mean area  mean smoothness  \\\n",
              " 0        17.99         10.38          122.80     1001.0          0.11840   \n",
              " 1        20.57         17.77          132.90     1326.0          0.08474   \n",
              " 2        19.69         21.25          130.00     1203.0          0.10960   \n",
              " 3        11.42         20.38           77.58      386.1          0.14250   \n",
              " 4        20.29         14.34          135.10     1297.0          0.10030   \n",
              " \n",
              "    mean compactness  mean concavity  mean concave points  mean symmetry  \\\n",
              " 0           0.27760          0.3001              0.14710         0.2419   \n",
              " 1           0.07864          0.0869              0.07017         0.1812   \n",
              " 2           0.15990          0.1974              0.12790         0.2069   \n",
              " 3           0.28390          0.2414              0.10520         0.2597   \n",
              " 4           0.13280          0.1980              0.10430         0.1809   \n",
              " \n",
              "    mean fractal dimension  ...  worst texture  worst perimeter  worst area  \\\n",
              " 0                 0.07871  ...          17.33           184.60      2019.0   \n",
              " 1                 0.05667  ...          23.41           158.80      1956.0   \n",
              " 2                 0.05999  ...          25.53           152.50      1709.0   \n",
              " 3                 0.09744  ...          26.50            98.87       567.7   \n",
              " 4                 0.05883  ...          16.67           152.20      1575.0   \n",
              " \n",
              "    worst smoothness  worst compactness  worst concavity  worst concave points  \\\n",
              " 0            0.1622             0.6656           0.7119                0.2654   \n",
              " 1            0.1238             0.1866           0.2416                0.1860   \n",
              " 2            0.1444             0.4245           0.4504                0.2430   \n",
              " 3            0.2098             0.8663           0.6869                0.2575   \n",
              " 4            0.1374             0.2050           0.4000                0.1625   \n",
              " \n",
              "    worst symmetry  worst fractal dimension  target  \n",
              " 0          0.4601                  0.11890       0  \n",
              " 1          0.2750                  0.08902       0  \n",
              " 2          0.3613                  0.08758       0  \n",
              " 3          0.6638                  0.17300       0  \n",
              " 4          0.2364                  0.07678       0  \n",
              " \n",
              " [5 rows x 31 columns]}"
            ]
          },
          "metadata": {},
          "execution_count": 42
        }
      ]
    },
    {
      "cell_type": "code",
      "source": [
        "def missing_value_analysis(data:pd.DataFrame):\n",
        "    \"\"\"\n",
        "    this function is for performing analysis on missing values\n",
        "    \n",
        "    args:\n",
        "        data (pd.DataFrame): input the dataframe to perform analysis upon\n",
        "    \n",
        "    return:\n",
        "        returns a plot of all the missing value columns and their frequenct\n",
        "    \"\"\"\n",
        "    cols_with_missing = data.isnull().sum()\n",
        "    cols_with_missing = cols_with_missing[cols_with_missing>0]\n",
        "    cols_with_missing.sort_values(inplace=True)\n",
        "    fig, ax = plt.subplots(figsize=(7,6))  \n",
        "    width = 0.70 # the width of the bars \n",
        "    ind = np.arange(len(cols_with_missing))  # the x locations for the groups\n",
        "    ax.barh(ind, cols_with_missing, width, color=\"blue\")\n",
        "    ax.set_yticks(ind+width/2)\n",
        "    ax.set_yticklabels(cols_with_missing.index, minor=False)\n",
        "    plt.xlabel('Count')\n",
        "    plt.ylabel('Features')\n",
        "missing_value_analysis(data)"
      ],
      "metadata": {
        "colab": {
          "base_uri": "https://localhost:8080/",
          "height": 388
        },
        "id": "-cnY9o2DUduj",
        "outputId": "82c54d2b-8608-45ae-ec2b-0dc7193dede6"
      },
      "execution_count": null,
      "outputs": [
        {
          "output_type": "display_data",
          "data": {
            "text/plain": [
              "<Figure size 504x432 with 1 Axes>"
            ],
            "image/png": "[encoded data removed]"
          },
          "metadata": {
            "needs_background": "light"
          }
        }
      ]
    },
    {
      "cell_type": "code",
      "source": [
        "# Get column names\n",
        "col = data.columns\n",
        "print(col)"
      ],
      "metadata": {
        "colab": {
          "base_uri": "https://localhost:8080/"
        },
        "id": "FJnjJIhcUjZt",
        "outputId": "3fafa9b5-abde-45b8-dced-43fb96e1e2fa"
      },
      "execution_count": null,
      "outputs": [
        {
          "output_type": "stream",
          "name": "stdout",
          "text": [
            "Index(['mean radius', 'mean texture', 'mean perimeter', 'mean area',\n",
            "       'mean smoothness', 'mean compactness', 'mean concavity',\n",
            "       'mean concave points', 'mean symmetry', 'mean fractal dimension',\n",
            "       'radius error', 'texture error', 'perimeter error', 'area error',\n",
            "       'smoothness error', 'compactness error', 'concavity error',\n",
            "       'concave points error', 'symmetry error', 'fractal dimension error',\n",
            "       'worst radius', 'worst texture', 'worst perimeter', 'worst area',\n",
            "       'worst smoothness', 'worst compactness', 'worst concavity',\n",
            "       'worst concave points', 'worst symmetry', 'worst fractal dimension',\n",
            "       'target'],\n",
            "      dtype='object')\n"
          ]
        }
      ]
    },
    {
      "cell_type": "code",
      "source": [
        "def get_xy(data:pd.DataFrame):\n",
        "    \"\"\"\n",
        "    set the x and y column\n",
        "    \n",
        "    args:\n",
        "        data(pd.DataFrame): the dataFrame which we are extracting the x and y\n",
        "    \n",
        "    returns:\n",
        "        y and X in form of pandas series\n",
        "    \n",
        "    \"\"\"\n",
        "    y = cancer.target # M or B \n",
        "    X = pd.DataFrame(cancer.data,columns=cancer.feature_names)\n",
        "    return y,X\n",
        "y,X = get_xy(data)"
      ],
      "metadata": {
        "id": "9u9ebiP5U3b8"
      },
      "execution_count": null,
      "outputs": []
    },
    {
      "cell_type": "code",
      "source": [
        "def describe_independent(X):\n",
        "    \"\"\"\n",
        "    gets data subset to describe and performs simple descriptive measures\n",
        "    on the independent variable\n",
        "    \n",
        "    args:\n",
        "        X (pd.DataFrame): a subset of the main data\n",
        "    \n",
        "    returns:\n",
        "        description in form of a dataframe\n",
        "    \"\"\"\n",
        "    return X.describe().T.style.bar(subset=['mean'], color='#205ff2')\\\n",
        "                            .background_gradient(subset=['std'], cmap='Reds')\\\n",
        "                            .background_gradient(subset=['50%'], cmap='coolwarm')\n",
        "describe_independent(X)"
      ],
      "metadata": {
        "colab": {
          "base_uri": "https://localhost:8080/",
          "height": 990
        },
        "id": "bgnLj5tOUyV0",
        "outputId": "7bc24ff3-4fde-4282-a723-f93a1c445f60"
      },
      "execution_count": null,
      "outputs": [
        {
          "output_type": "execute_result",
          "data": {
            "text/plain": [
              "<pandas.io.formats.style.Styler at 0x7f1fef4043d0>"
            ],
            "text/html": [
              "<style type=\"text/css\">\n",
              "#T_c2296_row0_col1 {\n",
              "  width: 10em;\n",
              "  background: linear-gradient(90deg, #205ff2 1.6%, transparent 1.6%);\n",
              "}\n",
              "#T_c2296_row0_col2, #T_c2296_row1_col2 {\n",
              "  background-color: #fff4ef;\n",
              "  color: #000000;\n",
              "}\n",
              "#T_c2296_row0_col5 {\n",
              "  background-color: #3f53c6;\n",
              "  color: #f1f1f1;\n",
              "}\n",
              "#T_c2296_row1_col1 {\n",
              "  width: 10em;\n",
              "  background: linear-gradient(90deg, #205ff2 2.2%, transparent 2.2%);\n",
              "}\n",
              "#T_c2296_row1_col5 {\n",
              "  background-color: #4358cb;\n",
              "  color: #f1f1f1;\n",
              "}\n",
              "#T_c2296_row2_col1 {\n",
              "  width: 10em;\n",
              "  background: linear-gradient(90deg, #205ff2 10.4%, transparent 10.4%);\n",
              "}\n",
              "#T_c2296_row2_col2 {\n",
              "  background-color: #ffeee7;\n",
              "  color: #000000;\n",
              "}\n",
              "#T_c2296_row2_col5 {\n",
              "  background-color: #6282ea;\n",
              "  color: #f1f1f1;\n",
              "}\n",
              "#T_c2296_row3_col1 {\n",
              "  width: 10em;\n",
              "  background: linear-gradient(90deg, #205ff2 74.4%, transparent 74.4%);\n",
              "}\n",
              "#T_c2296_row3_col2 {\n",
              "  background-color: #f03d2d;\n",
              "  color: #f1f1f1;\n",
              "}\n",
              "#T_c2296_row3_col5 {\n",
              "  background-color: #ed8366;\n",
              "  color: #f1f1f1;\n",
              "}\n",
              "#T_c2296_row4_col1, #T_c2296_row5_col1, #T_c2296_row6_col1, #T_c2296_row7_col1, #T_c2296_row8_col1, #T_c2296_row9_col1, #T_c2296_row10_col1, #T_c2296_row14_col1, #T_c2296_row15_col1, #T_c2296_row16_col1, #T_c2296_row17_col1, #T_c2296_row18_col1, #T_c2296_row19_col1, #T_c2296_row24_col1, #T_c2296_row25_col1, #T_c2296_row26_col1, #T_c2296_row27_col1, #T_c2296_row28_col1, #T_c2296_row29_col1 {\n",
              "  width: 10em;\n",
              "  background: linear-gradient(90deg, #205ff2 0.0%, transparent 0.0%);\n",
              "}\n",
              "#T_c2296_row4_col2, #T_c2296_row5_col2, #T_c2296_row6_col2, #T_c2296_row7_col2, #T_c2296_row8_col2, #T_c2296_row9_col2, #T_c2296_row10_col2, #T_c2296_row11_col2, #T_c2296_row12_col2, #T_c2296_row14_col2, #T_c2296_row15_col2, #T_c2296_row16_col2, #T_c2296_row17_col2, #T_c2296_row18_col2, #T_c2296_row19_col2, #T_c2296_row24_col2, #T_c2296_row25_col2, #T_c2296_row26_col2, #T_c2296_row27_col2, #T_c2296_row28_col2, #T_c2296_row29_col2 {\n",
              "  background-color: #fff5f0;\n",
              "  color: #000000;\n",
              "}\n",
              "#T_c2296_row4_col5, #T_c2296_row5_col5, #T_c2296_row6_col5, #T_c2296_row7_col5, #T_c2296_row8_col5, #T_c2296_row9_col5, #T_c2296_row10_col5, #T_c2296_row11_col5, #T_c2296_row12_col5, #T_c2296_row14_col5, #T_c2296_row15_col5, #T_c2296_row16_col5, #T_c2296_row17_col5, #T_c2296_row18_col5, #T_c2296_row19_col5, #T_c2296_row24_col5, #T_c2296_row25_col5, #T_c2296_row26_col5, #T_c2296_row27_col5, #T_c2296_row28_col5, #T_c2296_row29_col5 {\n",
              "  background-color: #3b4cc0;\n",
              "  color: #f1f1f1;\n",
              "}\n",
              "#T_c2296_row11_col1 {\n",
              "  width: 10em;\n",
              "  background: linear-gradient(90deg, #205ff2 0.1%, transparent 0.1%);\n",
              "}\n",
              "#T_c2296_row12_col1 {\n",
              "  width: 10em;\n",
              "  background: linear-gradient(90deg, #205ff2 0.3%, transparent 0.3%);\n",
              "}\n",
              "#T_c2296_row13_col1 {\n",
              "  width: 10em;\n",
              "  background: linear-gradient(90deg, #205ff2 4.6%, transparent 4.6%);\n",
              "}\n",
              "#T_c2296_row13_col2 {\n",
              "  background-color: #fee8dd;\n",
              "  color: #000000;\n",
              "}\n",
              "#T_c2296_row13_col5, #T_c2296_row21_col5 {\n",
              "  background-color: #455cce;\n",
              "  color: #f1f1f1;\n",
              "}\n",
              "#T_c2296_row20_col1 {\n",
              "  width: 10em;\n",
              "  background: linear-gradient(90deg, #205ff2 1.8%, transparent 1.8%);\n",
              "}\n",
              "#T_c2296_row20_col2, #T_c2296_row21_col2 {\n",
              "  background-color: #fff4ee;\n",
              "  color: #000000;\n",
              "}\n",
              "#T_c2296_row20_col5 {\n",
              "  background-color: #4055c8;\n",
              "  color: #f1f1f1;\n",
              "}\n",
              "#T_c2296_row21_col1 {\n",
              "  width: 10em;\n",
              "  background: linear-gradient(90deg, #205ff2 2.9%, transparent 2.9%);\n",
              "}\n",
              "#T_c2296_row22_col1 {\n",
              "  width: 10em;\n",
              "  background: linear-gradient(90deg, #205ff2 12.2%, transparent 12.2%);\n",
              "}\n",
              "#T_c2296_row22_col2 {\n",
              "  background-color: #ffebe2;\n",
              "  color: #000000;\n",
              "}\n",
              "#T_c2296_row22_col5 {\n",
              "  background-color: #6788ee;\n",
              "  color: #f1f1f1;\n",
              "}\n",
              "#T_c2296_row23_col1 {\n",
              "  width: 10em;\n",
              "  background: linear-gradient(90deg, #205ff2 100.0%, transparent 100.0%);\n",
              "}\n",
              "#T_c2296_row23_col2 {\n",
              "  background-color: #67000d;\n",
              "  color: #f1f1f1;\n",
              "}\n",
              "#T_c2296_row23_col5 {\n",
              "  background-color: #b40426;\n",
              "  color: #f1f1f1;\n",
              "}\n",
              "</style>\n",
              "<table id=\"T_c2296\" class=\"dataframe\">\n",
              "  <thead>\n",
              "    <tr>\n",
              "      <th class=\"blank level0\" >&nbsp;</th>\n",
              "      <th id=\"T_c2296_level0_col0\" class=\"col_heading level0 col0\" >count</th>\n",
              "      <th id=\"T_c2296_level0_col1\" class=\"col_heading level0 col1\" >mean</th>\n",
              "      <th id=\"T_c2296_level0_col2\" class=\"col_heading level0 col2\" >std</th>\n",
              "      <th id=\"T_c2296_level0_col3\" class=\"col_heading level0 col3\" >min</th>\n",
              "      <th id=\"T_c2296_level0_col4\" class=\"col_heading level0 col4\" >25%</th>\n",
              "      <th id=\"T_c2296_level0_col5\" class=\"col_heading level0 col5\" >50%</th>\n",
              "      <th id=\"T_c2296_level0_col6\" class=\"col_heading level0 col6\" >75%</th>\n",
              "      <th id=\"T_c2296_level0_col7\" class=\"col_heading level0 col7\" >max</th>\n",
              "    </tr>\n",
              "  </thead>\n",
              "  <tbody>\n",
              "    <tr>\n",
              "      <th id=\"T_c2296_level0_row0\" class=\"row_heading level0 row0\" >mean radius</th>\n",
              "      <td id=\"T_c2296_row0_col0\" class=\"data row0 col0\" >569.000000</td>\n",
              "      <td id=\"T_c2296_row0_col1\" class=\"data row0 col1\" >14.127292</td>\n",
              "      <td id=\"T_c2296_row0_col2\" class=\"data row0 col2\" >3.524049</td>\n",
              "      <td id=\"T_c2296_row0_col3\" class=\"data row0 col3\" >6.981000</td>\n",
              "      <td id=\"T_c2296_row0_col4\" class=\"data row0 col4\" >11.700000</td>\n",
              "      <td id=\"T_c2296_row0_col5\" class=\"data row0 col5\" >13.370000</td>\n",
              "      <td id=\"T_c2296_row0_col6\" class=\"data row0 col6\" >15.780000</td>\n",
              "      <td id=\"T_c2296_row0_col7\" class=\"data row0 col7\" >28.110000</td>\n",
              "    </tr>\n",
              "    <tr>\n",
              "      <th id=\"T_c2296_level0_row1\" class=\"row_heading level0 row1\" >mean texture</th>\n",
              "      <td id=\"T_c2296_row1_col0\" class=\"data row1 col0\" >569.000000</td>\n",
              "      <td id=\"T_c2296_row1_col1\" class=\"data row1 col1\" >19.289649</td>\n",
              "      <td id=\"T_c2296_row1_col2\" class=\"data row1 col2\" >4.301036</td>\n",
              "      <td id=\"T_c2296_row1_col3\" class=\"data row1 col3\" >9.710000</td>\n",
              "      <td id=\"T_c2296_row1_col4\" class=\"data row1 col4\" >16.170000</td>\n",
              "      <td id=\"T_c2296_row1_col5\" class=\"data row1 col5\" >18.840000</td>\n",
              "      <td id=\"T_c2296_row1_col6\" class=\"data row1 col6\" >21.800000</td>\n",
              "      <td id=\"T_c2296_row1_col7\" class=\"data row1 col7\" >39.280000</td>\n",
              "    </tr>\n",
              "    <tr>\n",
              "      <th id=\"T_c2296_level0_row2\" class=\"row_heading level0 row2\" >mean perimeter</th>\n",
              "      <td id=\"T_c2296_row2_col0\" class=\"data row2 col0\" >569.000000</td>\n",
              "      <td id=\"T_c2296_row2_col1\" class=\"data row2 col1\" >91.969033</td>\n",
              "      <td id=\"T_c2296_row2_col2\" class=\"data row2 col2\" >24.298981</td>\n",
              "      <td id=\"T_c2296_row2_col3\" class=\"data row2 col3\" >43.790000</td>\n",
              "      <td id=\"T_c2296_row2_col4\" class=\"data row2 col4\" >75.170000</td>\n",
              "      <td id=\"T_c2296_row2_col5\" class=\"data row2 col5\" >86.240000</td>\n",
              "      <td id=\"T_c2296_row2_col6\" class=\"data row2 col6\" >104.100000</td>\n",
              "      <td id=\"T_c2296_row2_col7\" class=\"data row2 col7\" >188.500000</td>\n",
              "    </tr>\n",
              "    <tr>\n",
              "      <th id=\"T_c2296_level0_row3\" class=\"row_heading level0 row3\" >mean area</th>\n",
              "      <td id=\"T_c2296_row3_col0\" class=\"data row3 col0\" >569.000000</td>\n",
              "      <td id=\"T_c2296_row3_col1\" class=\"data row3 col1\" >654.889104</td>\n",
              "      <td id=\"T_c2296_row3_col2\" class=\"data row3 col2\" >351.914129</td>\n",
              "      <td id=\"T_c2296_row3_col3\" class=\"data row3 col3\" >143.500000</td>\n",
              "      <td id=\"T_c2296_row3_col4\" class=\"data row3 col4\" >420.300000</td>\n",
              "      <td id=\"T_c2296_row3_col5\" class=\"data row3 col5\" >551.100000</td>\n",
              "      <td id=\"T_c2296_row3_col6\" class=\"data row3 col6\" >782.700000</td>\n",
              "      <td id=\"T_c2296_row3_col7\" class=\"data row3 col7\" >2501.000000</td>\n",
              "    </tr>\n",
              "    <tr>\n",
              "      <th id=\"T_c2296_level0_row4\" class=\"row_heading level0 row4\" >mean smoothness</th>\n",
              "      <td id=\"T_c2296_row4_col0\" class=\"data row4 col0\" >569.000000</td>\n",
              "      <td id=\"T_c2296_row4_col1\" class=\"data row4 col1\" >0.096360</td>\n",
              "      <td id=\"T_c2296_row4_col2\" class=\"data row4 col2\" >0.014064</td>\n",
              "      <td id=\"T_c2296_row4_col3\" class=\"data row4 col3\" >0.052630</td>\n",
              "      <td id=\"T_c2296_row4_col4\" class=\"data row4 col4\" >0.086370</td>\n",
              "      <td id=\"T_c2296_row4_col5\" class=\"data row4 col5\" >0.095870</td>\n",
              "      <td id=\"T_c2296_row4_col6\" class=\"data row4 col6\" >0.105300</td>\n",
              "      <td id=\"T_c2296_row4_col7\" class=\"data row4 col7\" >0.163400</td>\n",
              "    </tr>\n",
              "    <tr>\n",
              "      <th id=\"T_c2296_level0_row5\" class=\"row_heading level0 row5\" >mean compactness</th>\n",
              "      <td id=\"T_c2296_row5_col0\" class=\"data row5 col0\" >569.000000</td>\n",
              "      <td id=\"T_c2296_row5_col1\" class=\"data row5 col1\" >0.104341</td>\n",
              "      <td id=\"T_c2296_row5_col2\" class=\"data row5 col2\" >0.052813</td>\n",
              "      <td id=\"T_c2296_row5_col3\" class=\"data row5 col3\" >0.019380</td>\n",
              "      <td id=\"T_c2296_row5_col4\" class=\"data row5 col4\" >0.064920</td>\n",
              "      <td id=\"T_c2296_row5_col5\" class=\"data row5 col5\" >0.092630</td>\n",
              "      <td id=\"T_c2296_row5_col6\" class=\"data row5 col6\" >0.130400</td>\n",
              "      <td id=\"T_c2296_row5_col7\" class=\"data row5 col7\" >0.345400</td>\n",
              "    </tr>\n",
              "    <tr>\n",
              "      <th id=\"T_c2296_level0_row6\" class=\"row_heading level0 row6\" >mean concavity</th>\n",
              "      <td id=\"T_c2296_row6_col0\" class=\"data row6 col0\" >569.000000</td>\n",
              "      <td id=\"T_c2296_row6_col1\" class=\"data row6 col1\" >0.088799</td>\n",
              "      <td id=\"T_c2296_row6_col2\" class=\"data row6 col2\" >0.079720</td>\n",
              "      <td id=\"T_c2296_row6_col3\" class=\"data row6 col3\" >0.000000</td>\n",
              "      <td id=\"T_c2296_row6_col4\" class=\"data row6 col4\" >0.029560</td>\n",
              "      <td id=\"T_c2296_row6_col5\" class=\"data row6 col5\" >0.061540</td>\n",
              "      <td id=\"T_c2296_row6_col6\" class=\"data row6 col6\" >0.130700</td>\n",
              "      <td id=\"T_c2296_row6_col7\" class=\"data row6 col7\" >0.426800</td>\n",
              "    </tr>\n",
              "    <tr>\n",
              "      <th id=\"T_c2296_level0_row7\" class=\"row_heading level0 row7\" >mean concave points</th>\n",
              "      <td id=\"T_c2296_row7_col0\" class=\"data row7 col0\" >569.000000</td>\n",
              "      <td id=\"T_c2296_row7_col1\" class=\"data row7 col1\" >0.048919</td>\n",
              "      <td id=\"T_c2296_row7_col2\" class=\"data row7 col2\" >0.038803</td>\n",
              "      <td id=\"T_c2296_row7_col3\" class=\"data row7 col3\" >0.000000</td>\n",
              "      <td id=\"T_c2296_row7_col4\" class=\"data row7 col4\" >0.020310</td>\n",
              "      <td id=\"T_c2296_row7_col5\" class=\"data row7 col5\" >0.033500</td>\n",
              "      <td id=\"T_c2296_row7_col6\" class=\"data row7 col6\" >0.074000</td>\n",
              "      <td id=\"T_c2296_row7_col7\" class=\"data row7 col7\" >0.201200</td>\n",
              "    </tr>\n",
              "    <tr>\n",
              "      <th id=\"T_c2296_level0_row8\" class=\"row_heading level0 row8\" >mean symmetry</th>\n",
              "      <td id=\"T_c2296_row8_col0\" class=\"data row8 col0\" >569.000000</td>\n",
              "      <td id=\"T_c2296_row8_col1\" class=\"data row8 col1\" >0.181162</td>\n",
              "      <td id=\"T_c2296_row8_col2\" class=\"data row8 col2\" >0.027414</td>\n",
              "      <td id=\"T_c2296_row8_col3\" class=\"data row8 col3\" >0.106000</td>\n",
              "      <td id=\"T_c2296_row8_col4\" class=\"data row8 col4\" >0.161900</td>\n",
              "      <td id=\"T_c2296_row8_col5\" class=\"data row8 col5\" >0.179200</td>\n",
              "      <td id=\"T_c2296_row8_col6\" class=\"data row8 col6\" >0.195700</td>\n",
              "      <td id=\"T_c2296_row8_col7\" class=\"data row8 col7\" >0.304000</td>\n",
              "    </tr>\n",
              "    <tr>\n",
              "      <th id=\"T_c2296_level0_row9\" class=\"row_heading level0 row9\" >mean fractal dimension</th>\n",
              "      <td id=\"T_c2296_row9_col0\" class=\"data row9 col0\" >569.000000</td>\n",
              "      <td id=\"T_c2296_row9_col1\" class=\"data row9 col1\" >0.062798</td>\n",
              "      <td id=\"T_c2296_row9_col2\" class=\"data row9 col2\" >0.007060</td>\n",
              "      <td id=\"T_c2296_row9_col3\" class=\"data row9 col3\" >0.049960</td>\n",
              "      <td id=\"T_c2296_row9_col4\" class=\"data row9 col4\" >0.057700</td>\n",
              "      <td id=\"T_c2296_row9_col5\" class=\"data row9 col5\" >0.061540</td>\n",
              "      <td id=\"T_c2296_row9_col6\" class=\"data row9 col6\" >0.066120</td>\n",
              "      <td id=\"T_c2296_row9_col7\" class=\"data row9 col7\" >0.097440</td>\n",
              "    </tr>\n",
              "    <tr>\n",
              "      <th id=\"T_c2296_level0_row10\" class=\"row_heading level0 row10\" >radius error</th>\n",
              "      <td id=\"T_c2296_row10_col0\" class=\"data row10 col0\" >569.000000</td>\n",
              "      <td id=\"T_c2296_row10_col1\" class=\"data row10 col1\" >0.405172</td>\n",
              "      <td id=\"T_c2296_row10_col2\" class=\"data row10 col2\" >0.277313</td>\n",
              "      <td id=\"T_c2296_row10_col3\" class=\"data row10 col3\" >0.111500</td>\n",
              "      <td id=\"T_c2296_row10_col4\" class=\"data row10 col4\" >0.232400</td>\n",
              "      <td id=\"T_c2296_row10_col5\" class=\"data row10 col5\" >0.324200</td>\n",
              "      <td id=\"T_c2296_row10_col6\" class=\"data row10 col6\" >0.478900</td>\n",
              "      <td id=\"T_c2296_row10_col7\" class=\"data row10 col7\" >2.873000</td>\n",
              "    </tr>\n",
              "    <tr>\n",
              "      <th id=\"T_c2296_level0_row11\" class=\"row_heading level0 row11\" >texture error</th>\n",
              "      <td id=\"T_c2296_row11_col0\" class=\"data row11 col0\" >569.000000</td>\n",
              "      <td id=\"T_c2296_row11_col1\" class=\"data row11 col1\" >1.216853</td>\n",
              "      <td id=\"T_c2296_row11_col2\" class=\"data row11 col2\" >0.551648</td>\n",
              "      <td id=\"T_c2296_row11_col3\" class=\"data row11 col3\" >0.360200</td>\n",
              "      <td id=\"T_c2296_row11_col4\" class=\"data row11 col4\" >0.833900</td>\n",
              "      <td id=\"T_c2296_row11_col5\" class=\"data row11 col5\" >1.108000</td>\n",
              "      <td id=\"T_c2296_row11_col6\" class=\"data row11 col6\" >1.474000</td>\n",
              "      <td id=\"T_c2296_row11_col7\" class=\"data row11 col7\" >4.885000</td>\n",
              "    </tr>\n",
              "    <tr>\n",
              "      <th id=\"T_c2296_level0_row12\" class=\"row_heading level0 row12\" >perimeter error</th>\n",
              "      <td id=\"T_c2296_row12_col0\" class=\"data row12 col0\" >569.000000</td>\n",
              "      <td id=\"T_c2296_row12_col1\" class=\"data row12 col1\" >2.866059</td>\n",
              "      <td id=\"T_c2296_row12_col2\" class=\"data row12 col2\" >2.021855</td>\n",
              "      <td id=\"T_c2296_row12_col3\" class=\"data row12 col3\" >0.757000</td>\n",
              "      <td id=\"T_c2296_row12_col4\" class=\"data row12 col4\" >1.606000</td>\n",
              "      <td id=\"T_c2296_row12_col5\" class=\"data row12 col5\" >2.287000</td>\n",
              "      <td id=\"T_c2296_row12_col6\" class=\"data row12 col6\" >3.357000</td>\n",
              "      <td id=\"T_c2296_row12_col7\" class=\"data row12 col7\" >21.980000</td>\n",
              "    </tr>\n",
              "    <tr>\n",
              "      <th id=\"T_c2296_level0_row13\" class=\"row_heading level0 row13\" >area error</th>\n",
              "      <td id=\"T_c2296_row13_col0\" class=\"data row13 col0\" >569.000000</td>\n",
              "      <td id=\"T_c2296_row13_col1\" class=\"data row13 col1\" >40.337079</td>\n",
              "      <td id=\"T_c2296_row13_col2\" class=\"data row13 col2\" >45.491006</td>\n",
              "      <td id=\"T_c2296_row13_col3\" class=\"data row13 col3\" >6.802000</td>\n",
              "      <td id=\"T_c2296_row13_col4\" class=\"data row13 col4\" >17.850000</td>\n",
              "      <td id=\"T_c2296_row13_col5\" class=\"data row13 col5\" >24.530000</td>\n",
              "      <td id=\"T_c2296_row13_col6\" class=\"data row13 col6\" >45.190000</td>\n",
              "      <td id=\"T_c2296_row13_col7\" class=\"data row13 col7\" >542.200000</td>\n",
              "    </tr>\n",
              "    <tr>\n",
              "      <th id=\"T_c2296_level0_row14\" class=\"row_heading level0 row14\" >smoothness error</th>\n",
              "      <td id=\"T_c2296_row14_col0\" class=\"data row14 col0\" >569.000000</td>\n",
              "      <td id=\"T_c2296_row14_col1\" class=\"data row14 col1\" >0.007041</td>\n",
              "      <td id=\"T_c2296_row14_col2\" class=\"data row14 col2\" >0.003003</td>\n",
              "      <td id=\"T_c2296_row14_col3\" class=\"data row14 col3\" >0.001713</td>\n",
              "      <td id=\"T_c2296_row14_col4\" class=\"data row14 col4\" >0.005169</td>\n",
              "      <td id=\"T_c2296_row14_col5\" class=\"data row14 col5\" >0.006380</td>\n",
              "      <td id=\"T_c2296_row14_col6\" class=\"data row14 col6\" >0.008146</td>\n",
              "      <td id=\"T_c2296_row14_col7\" class=\"data row14 col7\" >0.031130</td>\n",
              "    </tr>\n",
              "    <tr>\n",
              "      <th id=\"T_c2296_level0_row15\" class=\"row_heading level0 row15\" >compactness error</th>\n",
              "      <td id=\"T_c2296_row15_col0\" class=\"data row15 col0\" >569.000000</td>\n",
              "      <td id=\"T_c2296_row15_col1\" class=\"data row15 col1\" >0.025478</td>\n",
              "      <td id=\"T_c2296_row15_col2\" class=\"data row15 col2\" >0.017908</td>\n",
              "      <td id=\"T_c2296_row15_col3\" class=\"data row15 col3\" >0.002252</td>\n",
              "      <td id=\"T_c2296_row15_col4\" class=\"data row15 col4\" >0.013080</td>\n",
              "      <td id=\"T_c2296_row15_col5\" class=\"data row15 col5\" >0.020450</td>\n",
              "      <td id=\"T_c2296_row15_col6\" class=\"data row15 col6\" >0.032450</td>\n",
              "      <td id=\"T_c2296_row15_col7\" class=\"data row15 col7\" >0.135400</td>\n",
              "    </tr>\n",
              "    <tr>\n",
              "      <th id=\"T_c2296_level0_row16\" class=\"row_heading level0 row16\" >concavity error</th>\n",
              "      <td id=\"T_c2296_row16_col0\" class=\"data row16 col0\" >569.000000</td>\n",
              "      <td id=\"T_c2296_row16_col1\" class=\"data row16 col1\" >0.031894</td>\n",
              "      <td id=\"T_c2296_row16_col2\" class=\"data row16 col2\" >0.030186</td>\n",
              "      <td id=\"T_c2296_row16_col3\" class=\"data row16 col3\" >0.000000</td>\n",
              "      <td id=\"T_c2296_row16_col4\" class=\"data row16 col4\" >0.015090</td>\n",
              "      <td id=\"T_c2296_row16_col5\" class=\"data row16 col5\" >0.025890</td>\n",
              "      <td id=\"T_c2296_row16_col6\" class=\"data row16 col6\" >0.042050</td>\n",
              "      <td id=\"T_c2296_row16_col7\" class=\"data row16 col7\" >0.396000</td>\n",
              "    </tr>\n",
              "    <tr>\n",
              "      <th id=\"T_c2296_level0_row17\" class=\"row_heading level0 row17\" >concave points error</th>\n",
              "      <td id=\"T_c2296_row17_col0\" class=\"data row17 col0\" >569.000000</td>\n",
              "      <td id=\"T_c2296_row17_col1\" class=\"data row17 col1\" >0.011796</td>\n",
              "      <td id=\"T_c2296_row17_col2\" class=\"data row17 col2\" >0.006170</td>\n",
              "      <td id=\"T_c2296_row17_col3\" class=\"data row17 col3\" >0.000000</td>\n",
              "      <td id=\"T_c2296_row17_col4\" class=\"data row17 col4\" >0.007638</td>\n",
              "      <td id=\"T_c2296_row17_col5\" class=\"data row17 col5\" >0.010930</td>\n",
              "      <td id=\"T_c2296_row17_col6\" class=\"data row17 col6\" >0.014710</td>\n",
              "      <td id=\"T_c2296_row17_col7\" class=\"data row17 col7\" >0.052790</td>\n",
              "    </tr>\n",
              "    <tr>\n",
              "      <th id=\"T_c2296_level0_row18\" class=\"row_heading level0 row18\" >symmetry error</th>\n",
              "      <td id=\"T_c2296_row18_col0\" class=\"data row18 col0\" >569.000000</td>\n",
              "      <td id=\"T_c2296_row18_col1\" class=\"data row18 col1\" >0.020542</td>\n",
              "      <td id=\"T_c2296_row18_col2\" class=\"data row18 col2\" >0.008266</td>\n",
              "      <td id=\"T_c2296_row18_col3\" class=\"data row18 col3\" >0.007882</td>\n",
              "      <td id=\"T_c2296_row18_col4\" class=\"data row18 col4\" >0.015160</td>\n",
              "      <td id=\"T_c2296_row18_col5\" class=\"data row18 col5\" >0.018730</td>\n",
              "      <td id=\"T_c2296_row18_col6\" class=\"data row18 col6\" >0.023480</td>\n",
              "      <td id=\"T_c2296_row18_col7\" class=\"data row18 col7\" >0.078950</td>\n",
              "    </tr>\n",
              "    <tr>\n",
              "      <th id=\"T_c2296_level0_row19\" class=\"row_heading level0 row19\" >fractal dimension error</th>\n",
              "      <td id=\"T_c2296_row19_col0\" class=\"data row19 col0\" >569.000000</td>\n",
              "      <td id=\"T_c2296_row19_col1\" class=\"data row19 col1\" >0.003795</td>\n",
              "      <td id=\"T_c2296_row19_col2\" class=\"data row19 col2\" >0.002646</td>\n",
              "      <td id=\"T_c2296_row19_col3\" class=\"data row19 col3\" >0.000895</td>\n",
              "      <td id=\"T_c2296_row19_col4\" class=\"data row19 col4\" >0.002248</td>\n",
              "      <td id=\"T_c2296_row19_col5\" class=\"data row19 col5\" >0.003187</td>\n",
              "      <td id=\"T_c2296_row19_col6\" class=\"data row19 col6\" >0.004558</td>\n",
              "      <td id=\"T_c2296_row19_col7\" class=\"data row19 col7\" >0.029840</td>\n",
              "    </tr>\n",
              "    <tr>\n",
              "      <th id=\"T_c2296_level0_row20\" class=\"row_heading level0 row20\" >worst radius</th>\n",
              "      <td id=\"T_c2296_row20_col0\" class=\"data row20 col0\" >569.000000</td>\n",
              "      <td id=\"T_c2296_row20_col1\" class=\"data row20 col1\" >16.269190</td>\n",
              "      <td id=\"T_c2296_row20_col2\" class=\"data row20 col2\" >4.833242</td>\n",
              "      <td id=\"T_c2296_row20_col3\" class=\"data row20 col3\" >7.930000</td>\n",
              "      <td id=\"T_c2296_row20_col4\" class=\"data row20 col4\" >13.010000</td>\n",
              "      <td id=\"T_c2296_row20_col5\" class=\"data row20 col5\" >14.970000</td>\n",
              "      <td id=\"T_c2296_row20_col6\" class=\"data row20 col6\" >18.790000</td>\n",
              "      <td id=\"T_c2296_row20_col7\" class=\"data row20 col7\" >36.040000</td>\n",
              "    </tr>\n",
              "    <tr>\n",
              "      <th id=\"T_c2296_level0_row21\" class=\"row_heading level0 row21\" >worst texture</th>\n",
              "      <td id=\"T_c2296_row21_col0\" class=\"data row21 col0\" >569.000000</td>\n",
              "      <td id=\"T_c2296_row21_col1\" class=\"data row21 col1\" >25.677223</td>\n",
              "      <td id=\"T_c2296_row21_col2\" class=\"data row21 col2\" >6.146258</td>\n",
              "      <td id=\"T_c2296_row21_col3\" class=\"data row21 col3\" >12.020000</td>\n",
              "      <td id=\"T_c2296_row21_col4\" class=\"data row21 col4\" >21.080000</td>\n",
              "      <td id=\"T_c2296_row21_col5\" class=\"data row21 col5\" >25.410000</td>\n",
              "      <td id=\"T_c2296_row21_col6\" class=\"data row21 col6\" >29.720000</td>\n",
              "      <td id=\"T_c2296_row21_col7\" class=\"data row21 col7\" >49.540000</td>\n",
              "    </tr>\n",
              "    <tr>\n",
              "      <th id=\"T_c2296_level0_row22\" class=\"row_heading level0 row22\" >worst perimeter</th>\n",
              "      <td id=\"T_c2296_row22_col0\" class=\"data row22 col0\" >569.000000</td>\n",
              "      <td id=\"T_c2296_row22_col1\" class=\"data row22 col1\" >107.261213</td>\n",
              "      <td id=\"T_c2296_row22_col2\" class=\"data row22 col2\" >33.602542</td>\n",
              "      <td id=\"T_c2296_row22_col3\" class=\"data row22 col3\" >50.410000</td>\n",
              "      <td id=\"T_c2296_row22_col4\" class=\"data row22 col4\" >84.110000</td>\n",
              "      <td id=\"T_c2296_row22_col5\" class=\"data row22 col5\" >97.660000</td>\n",
              "      <td id=\"T_c2296_row22_col6\" class=\"data row22 col6\" >125.400000</td>\n",
              "      <td id=\"T_c2296_row22_col7\" class=\"data row22 col7\" >251.200000</td>\n",
              "    </tr>\n",
              "    <tr>\n",
              "      <th id=\"T_c2296_level0_row23\" class=\"row_heading level0 row23\" >worst area</th>\n",
              "      <td id=\"T_c2296_row23_col0\" class=\"data row23 col0\" >569.000000</td>\n",
              "      <td id=\"T_c2296_row23_col1\" class=\"data row23 col1\" >880.583128</td>\n",
              "      <td id=\"T_c2296_row23_col2\" class=\"data row23 col2\" >569.356993</td>\n",
              "      <td id=\"T_c2296_row23_col3\" class=\"data row23 col3\" >185.200000</td>\n",
              "      <td id=\"T_c2296_row23_col4\" class=\"data row23 col4\" >515.300000</td>\n",
              "      <td id=\"T_c2296_row23_col5\" class=\"data row23 col5\" >686.500000</td>\n",
              "      <td id=\"T_c2296_row23_col6\" class=\"data row23 col6\" >1084.000000</td>\n",
              "      <td id=\"T_c2296_row23_col7\" class=\"data row23 col7\" >4254.000000</td>\n",
              "    </tr>\n",
              "    <tr>\n",
              "      <th id=\"T_c2296_level0_row24\" class=\"row_heading level0 row24\" >worst smoothness</th>\n",
              "      <td id=\"T_c2296_row24_col0\" class=\"data row24 col0\" >569.000000</td>\n",
              "      <td id=\"T_c2296_row24_col1\" class=\"data row24 col1\" >0.132369</td>\n",
              "      <td id=\"T_c2296_row24_col2\" class=\"data row24 col2\" >0.022832</td>\n",
              "      <td id=\"T_c2296_row24_col3\" class=\"data row24 col3\" >0.071170</td>\n",
              "      <td id=\"T_c2296_row24_col4\" class=\"data row24 col4\" >0.116600</td>\n",
              "      <td id=\"T_c2296_row24_col5\" class=\"data row24 col5\" >0.131300</td>\n",
              "      <td id=\"T_c2296_row24_col6\" class=\"data row24 col6\" >0.146000</td>\n",
              "      <td id=\"T_c2296_row24_col7\" class=\"data row24 col7\" >0.222600</td>\n",
              "    </tr>\n",
              "    <tr>\n",
              "      <th id=\"T_c2296_level0_row25\" class=\"row_heading level0 row25\" >worst compactness</th>\n",
              "      <td id=\"T_c2296_row25_col0\" class=\"data row25 col0\" >569.000000</td>\n",
              "      <td id=\"T_c2296_row25_col1\" class=\"data row25 col1\" >0.254265</td>\n",
              "      <td id=\"T_c2296_row25_col2\" class=\"data row25 col2\" >0.157336</td>\n",
              "      <td id=\"T_c2296_row25_col3\" class=\"data row25 col3\" >0.027290</td>\n",
              "      <td id=\"T_c2296_row25_col4\" class=\"data row25 col4\" >0.147200</td>\n",
              "      <td id=\"T_c2296_row25_col5\" class=\"data row25 col5\" >0.211900</td>\n",
              "      <td id=\"T_c2296_row25_col6\" class=\"data row25 col6\" >0.339100</td>\n",
              "      <td id=\"T_c2296_row25_col7\" class=\"data row25 col7\" >1.058000</td>\n",
              "    </tr>\n",
              "    <tr>\n",
              "      <th id=\"T_c2296_level0_row26\" class=\"row_heading level0 row26\" >worst concavity</th>\n",
              "      <td id=\"T_c2296_row26_col0\" class=\"data row26 col0\" >569.000000</td>\n",
              "      <td id=\"T_c2296_row26_col1\" class=\"data row26 col1\" >0.272188</td>\n",
              "      <td id=\"T_c2296_row26_col2\" class=\"data row26 col2\" >0.208624</td>\n",
              "      <td id=\"T_c2296_row26_col3\" class=\"data row26 col3\" >0.000000</td>\n",
              "      <td id=\"T_c2296_row26_col4\" class=\"data row26 col4\" >0.114500</td>\n",
              "      <td id=\"T_c2296_row26_col5\" class=\"data row26 col5\" >0.226700</td>\n",
              "      <td id=\"T_c2296_row26_col6\" class=\"data row26 col6\" >0.382900</td>\n",
              "      <td id=\"T_c2296_row26_col7\" class=\"data row26 col7\" >1.252000</td>\n",
              "    </tr>\n",
              "    <tr>\n",
              "      <th id=\"T_c2296_level0_row27\" class=\"row_heading level0 row27\" >worst concave points</th>\n",
              "      <td id=\"T_c2296_row27_col0\" class=\"data row27 col0\" >569.000000</td>\n",
              "      <td id=\"T_c2296_row27_col1\" class=\"data row27 col1\" >0.114606</td>\n",
              "      <td id=\"T_c2296_row27_col2\" class=\"data row27 col2\" >0.065732</td>\n",
              "      <td id=\"T_c2296_row27_col3\" class=\"data row27 col3\" >0.000000</td>\n",
              "      <td id=\"T_c2296_row27_col4\" class=\"data row27 col4\" >0.064930</td>\n",
              "      <td id=\"T_c2296_row27_col5\" class=\"data row27 col5\" >0.099930</td>\n",
              "      <td id=\"T_c2296_row27_col6\" class=\"data row27 col6\" >0.161400</td>\n",
              "      <td id=\"T_c2296_row27_col7\" class=\"data row27 col7\" >0.291000</td>\n",
              "    </tr>\n",
              "    <tr>\n",
              "      <th id=\"T_c2296_level0_row28\" class=\"row_heading level0 row28\" >worst symmetry</th>\n",
              "      <td id=\"T_c2296_row28_col0\" class=\"data row28 col0\" >569.000000</td>\n",
              "      <td id=\"T_c2296_row28_col1\" class=\"data row28 col1\" >0.290076</td>\n",
              "      <td id=\"T_c2296_row28_col2\" class=\"data row28 col2\" >0.061867</td>\n",
              "      <td id=\"T_c2296_row28_col3\" class=\"data row28 col3\" >0.156500</td>\n",
              "      <td id=\"T_c2296_row28_col4\" class=\"data row28 col4\" >0.250400</td>\n",
              "      <td id=\"T_c2296_row28_col5\" class=\"data row28 col5\" >0.282200</td>\n",
              "      <td id=\"T_c2296_row28_col6\" class=\"data row28 col6\" >0.317900</td>\n",
              "      <td id=\"T_c2296_row28_col7\" class=\"data row28 col7\" >0.663800</td>\n",
              "    </tr>\n",
              "    <tr>\n",
              "      <th id=\"T_c2296_level0_row29\" class=\"row_heading level0 row29\" >worst fractal dimension</th>\n",
              "      <td id=\"T_c2296_row29_col0\" class=\"data row29 col0\" >569.000000</td>\n",
              "      <td id=\"T_c2296_row29_col1\" class=\"data row29 col1\" >0.083946</td>\n",
              "      <td id=\"T_c2296_row29_col2\" class=\"data row29 col2\" >0.018061</td>\n",
              "      <td id=\"T_c2296_row29_col3\" class=\"data row29 col3\" >0.055040</td>\n",
              "      <td id=\"T_c2296_row29_col4\" class=\"data row29 col4\" >0.071460</td>\n",
              "      <td id=\"T_c2296_row29_col5\" class=\"data row29 col5\" >0.080040</td>\n",
              "      <td id=\"T_c2296_row29_col6\" class=\"data row29 col6\" >0.092080</td>\n",
              "      <td id=\"T_c2296_row29_col7\" class=\"data row29 col7\" >0.207500</td>\n",
              "    </tr>\n",
              "  </tbody>\n",
              "</table>\n"
            ]
          },
          "metadata": {},
          "execution_count": 49
        }
      ]
    },
    {
      "cell_type": "code",
      "source": [
        "def describe_dependent(y):\n",
        "    \"\"\"\n",
        "    gets the independent variable and performs simple descriptive measures, like counts\n",
        "    \n",
        "    args: \n",
        "        y (pd.DataFrame): y column of dependent variable\n",
        "    \n",
        "    returns:\n",
        "        plot of counts of the dependent variable\n",
        "    \"\"\"\n",
        "    ax = sns.countplot(y,label=\"Count\")       # M = 212, B = 357\n",
        "    B, M = y.value_counts()\n",
        "    print('Number of Benign: ',B)\n",
        "    print('Number of Malignant : ',M)\n",
        "    ax.set_ylabel('Number of patients')\n",
        "    bars = ax.patches\n",
        "    half = int(len(bars)/2)\n",
        "    left_bars = bars[:half]\n",
        "    right_bars = bars[half:]\n",
        "    for left, right in zip(left_bars, right_bars):\n",
        "        height_l = left.get_height()\n",
        "        height_r = right.get_height()\n",
        "        total = height_l + height_r\n",
        "        ax.text(left.get_x() + left.get_width()/2., height_l + 40, '{0:.0%}'.format(height_l/total), ha=\"center\")\n",
        "        ax.text(right.get_x() + right.get_width()/2., height_r + 40, '{0:.0%}'.format(height_r/total), ha=\"center\")\n",
        "describe_dependent(y)\n"
      ],
      "metadata": {
        "id": "qXppAs9aoq7M"
      },
      "execution_count": null,
      "outputs": []
    }
  ]
}